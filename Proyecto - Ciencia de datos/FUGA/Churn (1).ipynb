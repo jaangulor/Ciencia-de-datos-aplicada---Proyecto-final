{
 "cells": [
  {
   "cell_type": "markdown",
   "id": "2fe08ce6",
   "metadata": {},
   "source": [
    "Julián Y. Torres Torres, Carlos J. Barreto Mora, Juan A. Angulo Rincón\n",
    "\n",
    "PRoyecto Final\n",
    "\n",
    "Universidad de los Andes, Bogotá, Colombia\n",
    "\n",
    "{jy.torres, c.barretom, ja.angulor1}@uniandes.edu.co"
   ]
  },
  {
   "cell_type": "code",
   "execution_count": 2,
   "id": "Xhu_wY1e-Ll8",
   "metadata": {
    "id": "Xhu_wY1e-Ll8"
   },
   "outputs": [],
   "source": [
    "import pandas as pd\n",
    "import numpy as np\n",
    "from zipfile import ZipFile\n",
    "import os\n",
    "import seaborn as sns\n",
    "import matplotlib.pyplot as plt\n",
    "import plotly.express as px\n",
    "import shap"
   ]
  },
  {
   "cell_type": "code",
   "execution_count": 3,
   "id": "gvozoNqx-Ll_",
   "metadata": {
    "colab": {
     "base_uri": "https://localhost:8080/",
     "height": 244
    },
    "executionInfo": {
     "elapsed": 288,
     "status": "error",
     "timestamp": 1669684994078,
     "user": {
      "displayName": "Carlos Julian Barreto Mora",
      "userId": "06653926788464447629"
     },
     "user_tz": 300
    },
    "id": "gvozoNqx-Ll_",
    "outputId": "0ed99609-fb71-4e3f-d5b0-3d6931760278"
   },
   "outputs": [],
   "source": [
    "import os\n",
    "file_path_1 = \"Bases de datos/1_BAC.csv\"\n",
    "file_path_2 = \"Bases de datos/2_BAC.csv\"\n",
    "file_path_3 = \"Bases de datos/Catalogo_oficinas.csv\"\n",
    "\n",
    "df = pd.concat(\n",
    "   map(pd.read_csv, [file_path_1, file_path_2]), ignore_index=True)\n",
    "\n",
    "Catalogo = pd.read_csv(file_path_3,sep=';')\n",
    "Catalogo['OficinaCD'] = Catalogo['OficinaCD'].round(decimals=0).astype(object)"
   ]
  },
  {
   "cell_type": "code",
   "execution_count": 4,
   "id": "6pkgXuIG-LmB",
   "metadata": {
    "colab": {
     "base_uri": "https://localhost:8080/",
     "height": 171
    },
    "executionInfo": {
     "elapsed": 189,
     "status": "error",
     "timestamp": 1669684991305,
     "user": {
      "displayName": "Carlos Julian Barreto Mora",
      "userId": "06653926788464447629"
     },
     "user_tz": 300
    },
    "id": "6pkgXuIG-LmB",
    "outputId": "0a84ad1d-86a3-4917-df71-65a23859db37"
   },
   "outputs": [
    {
     "data": {
      "text/html": [
       "<div>\n",
       "<style scoped>\n",
       "    .dataframe tbody tr th:only-of-type {\n",
       "        vertical-align: middle;\n",
       "    }\n",
       "\n",
       "    .dataframe tbody tr th {\n",
       "        vertical-align: top;\n",
       "    }\n",
       "\n",
       "    .dataframe thead th {\n",
       "        text-align: right;\n",
       "    }\n",
       "</style>\n",
       "<table border=\"1\" class=\"dataframe\">\n",
       "  <thead>\n",
       "    <tr style=\"text-align: right;\">\n",
       "      <th></th>\n",
       "      <th>OficinaCD</th>\n",
       "      <th>OficinaDesc</th>\n",
       "      <th>Zonal</th>\n",
       "      <th>Regional</th>\n",
       "    </tr>\n",
       "  </thead>\n",
       "  <tbody>\n",
       "    <tr>\n",
       "      <th>0</th>\n",
       "      <td>16298.0</td>\n",
       "      <td>CB MISCELANEA Y LICORES LA 69</td>\n",
       "      <td>VALLE</td>\n",
       "      <td>OCCIDENTE</td>\n",
       "    </tr>\n",
       "    <tr>\n",
       "      <th>1</th>\n",
       "      <td>18354.0</td>\n",
       "      <td>CB HATO COROZAL</td>\n",
       "      <td>CASANARE</td>\n",
       "      <td>ORIENTE</td>\n",
       "    </tr>\n",
       "    <tr>\n",
       "      <th>2</th>\n",
       "      <td>19405.0</td>\n",
       "      <td>CB ALMACEN FERREOAGRO</td>\n",
       "      <td>VALLE NORTE</td>\n",
       "      <td>CAFETERA</td>\n",
       "    </tr>\n",
       "    <tr>\n",
       "      <th>3</th>\n",
       "      <td>12056.0</td>\n",
       "      <td>CB DROGAS DEL NORTE</td>\n",
       "      <td>CASANARE</td>\n",
       "      <td>ORIENTE</td>\n",
       "    </tr>\n",
       "    <tr>\n",
       "      <th>4</th>\n",
       "      <td>16176.0</td>\n",
       "      <td>CB CAFE INTERNET AGUILA INTERACTIVA.COM</td>\n",
       "      <td>BOGOTA</td>\n",
       "      <td>BOGOTA</td>\n",
       "    </tr>\n",
       "    <tr>\n",
       "      <th>...</th>\n",
       "      <td>...</td>\n",
       "      <td>...</td>\n",
       "      <td>...</td>\n",
       "      <td>...</td>\n",
       "    </tr>\n",
       "    <tr>\n",
       "      <th>16844</th>\n",
       "      <td>19429.0</td>\n",
       "      <td>CB CAFE INTERNET DANIBY COMUNICACIONES</td>\n",
       "      <td>CUNDINAMARCA OCCIDENTE</td>\n",
       "      <td>BOGOTA</td>\n",
       "    </tr>\n",
       "    <tr>\n",
       "      <th>16845</th>\n",
       "      <td>18015.0</td>\n",
       "      <td>SVT - PRINCIPAL RIOACHA</td>\n",
       "      <td>MAGDALENA</td>\n",
       "      <td>COSTA</td>\n",
       "    </tr>\n",
       "    <tr>\n",
       "      <th>16846</th>\n",
       "      <td>29274.0</td>\n",
       "      <td>CB CAFE INTERNET CENTRO DE COMUNICACIONES LA S...</td>\n",
       "      <td>CORDOBA</td>\n",
       "      <td>ANTIOQUIA</td>\n",
       "    </tr>\n",
       "    <tr>\n",
       "      <th>16847</th>\n",
       "      <td>17524.0</td>\n",
       "      <td>CB DROGAS DEL NORTE No 2</td>\n",
       "      <td>VALLE</td>\n",
       "      <td>OCCIDENTE</td>\n",
       "    </tr>\n",
       "    <tr>\n",
       "      <th>16848</th>\n",
       "      <td>28855.0</td>\n",
       "      <td>CB  PAPELERIA ANGEL JM</td>\n",
       "      <td>BOGOTA</td>\n",
       "      <td>BOGOTA</td>\n",
       "    </tr>\n",
       "  </tbody>\n",
       "</table>\n",
       "<p>16646 rows × 4 columns</p>\n",
       "</div>"
      ],
      "text/plain": [
       "      OficinaCD                                        OficinaDesc  \\\n",
       "0       16298.0                      CB MISCELANEA Y LICORES LA 69   \n",
       "1       18354.0                                    CB HATO COROZAL   \n",
       "2       19405.0                              CB ALMACEN FERREOAGRO   \n",
       "3       12056.0                                CB DROGAS DEL NORTE   \n",
       "4       16176.0            CB CAFE INTERNET AGUILA INTERACTIVA.COM   \n",
       "...         ...                                                ...   \n",
       "16844   19429.0             CB CAFE INTERNET DANIBY COMUNICACIONES   \n",
       "16845   18015.0                            SVT - PRINCIPAL RIOACHA   \n",
       "16846   29274.0  CB CAFE INTERNET CENTRO DE COMUNICACIONES LA S...   \n",
       "16847   17524.0                           CB DROGAS DEL NORTE No 2   \n",
       "16848   28855.0                             CB  PAPELERIA ANGEL JM   \n",
       "\n",
       "                        Zonal   Regional  \n",
       "0                       VALLE  OCCIDENTE  \n",
       "1                    CASANARE    ORIENTE  \n",
       "2                 VALLE NORTE   CAFETERA  \n",
       "3                    CASANARE    ORIENTE  \n",
       "4                      BOGOTA     BOGOTA  \n",
       "...                       ...        ...  \n",
       "16844  CUNDINAMARCA OCCIDENTE     BOGOTA  \n",
       "16845               MAGDALENA      COSTA  \n",
       "16846                 CORDOBA  ANTIOQUIA  \n",
       "16847                   VALLE  OCCIDENTE  \n",
       "16848                  BOGOTA     BOGOTA  \n",
       "\n",
       "[16646 rows x 4 columns]"
      ]
     },
     "execution_count": 4,
     "metadata": {},
     "output_type": "execute_result"
    }
   ],
   "source": [
    "Catalogo.dropna()"
   ]
  },
  {
   "cell_type": "code",
   "execution_count": 5,
   "id": "ljvk4YLR-LmB",
   "metadata": {
    "id": "ljvk4YLR-LmB"
   },
   "outputs": [],
   "source": [
    "df_1 = pd.merge(df, Catalogo, how='left', left_on=df['SBAN'], right_on=Catalogo['OficinaCD'])"
   ]
  },
  {
   "cell_type": "code",
   "execution_count": 6,
   "id": "qNFBT0RR-LmC",
   "metadata": {
    "id": "qNFBT0RR-LmC",
    "outputId": "13161176-4ccf-4944-9a8b-d4193953164b"
   },
   "outputs": [
    {
     "name": "stdout",
     "output_type": "stream",
     "text": [
      "<class 'pandas.core.frame.DataFrame'>\n",
      "Int64Index: 1050743 entries, 0 to 1050742\n",
      "Data columns (total 57 columns):\n",
      " #   Column                           Non-Null Count    Dtype  \n",
      "---  ------                           --------------    -----  \n",
      " 0   key_0                            1050743 non-null  int64  \n",
      " 1   FechaCorte                       1050743 non-null  object \n",
      " 2   ClienteID                        1050743 non-null  int64  \n",
      " 3   SegmentoDesc                     1050743 non-null  object \n",
      " 4   SBAN                             1050743 non-null  int64  \n",
      " 5   TipoDoctoIdentificacionCD        1050743 non-null  object \n",
      " 6   TipoPersonaDesc                  1050743 non-null  object \n",
      " 7   NaturalezaJuridicaDesc           1050731 non-null  object \n",
      " 8   SexoDesc                         1032305 non-null  object \n",
      " 9   Edad                             1032305 non-null  float64\n",
      " 10  EstadoCivilDesc                  1022523 non-null  object \n",
      " 11  ProfesionDesc                    1023599 non-null  object \n",
      " 12  Cod_CIIU                         1050719 non-null  float64\n",
      " 13  ClienteFallecido                 1050743 non-null  object \n",
      " 14  indClienteEsEmpleado             1036756 non-null  object \n",
      " 15  FechaVinculacionBAC              1050727 non-null  object \n",
      " 16  EstadoClienteDesc                1050743 non-null  object \n",
      " 17  TipoClienteDesc                  1050743 non-null  object \n",
      " 18  ValorActivos                     1042129 non-null  float64\n",
      " 19  ValorEgresos                     1042849 non-null  float64\n",
      " 20  ValorIngresos                    1042752 non-null  float64\n",
      " 21  ValorOtrosingresos               629326 non-null   float64\n",
      " 22  ValorPatrimonio                  1042129 non-null  float64\n",
      " 23  TotalPasivos                     1041965 non-null  float64\n",
      " 24  NumCreditos                      1050743 non-null  int64  \n",
      " 25  SaldoCreditos                    1050743 non-null  float64\n",
      " 26  SaldoCarteraVencida              1050743 non-null  int64  \n",
      " 27  NumeroTC                         1050743 non-null  int64  \n",
      " 28  SaldoTC                          1050743 non-null  float64\n",
      " 29  SaldoTCVencido                   1050743 non-null  float64\n",
      " 30  NumeroSobregisrosUso             1050743 non-null  int64  \n",
      " 31  SaldoSobregirosUso               1050743 non-null  float64\n",
      " 32  SaldoSobregirosVencidos          1050743 non-null  float64\n",
      " 33  NumeroCuentasAhorroActivas       1050743 non-null  int64  \n",
      " 34  SaldoCuentasAhorroActivas        1050743 non-null  float64\n",
      " 35  NumeroCuentasAhorroInactivas     1050743 non-null  int64  \n",
      " 36  SaldoCuentasAhorroInactivas      1050743 non-null  float64\n",
      " 37  NumeroCuentasCorrienteActivas    1050743 non-null  int64  \n",
      " 38  SaldoCuentasCorrienteActivas     1050743 non-null  float64\n",
      " 39  NumeroCuentascorrienteInactivas  1050743 non-null  int64  \n",
      " 40  SaldoCuentascorrienteInactivas   1050743 non-null  float64\n",
      " 41  NumeroCDT                        1050743 non-null  int64  \n",
      " 42  SaldoCDT                         1050743 non-null  float64\n",
      " 43  NumeroCDAT                       1050743 non-null  int64  \n",
      " 44  SaldoCDAT                        1050743 non-null  float64\n",
      " 45  SaldoTotalCartera                1050743 non-null  float64\n",
      " 46  NumeroOperacionesCartera         1050743 non-null  int64  \n",
      " 47  NumeroProductosCaptacion         1050743 non-null  int64  \n",
      " 48  SaldoTotalCaptaciones            1050743 non-null  float64\n",
      " 49  NumCreditosVencidos              1050743 non-null  int64  \n",
      " 50  NumeroTCVencidas                 1050743 non-null  int64  \n",
      " 51  NumOperacionesCarteraVencida     1050743 non-null  int64  \n",
      " 52  SaldoTotalCarteraVencida         1050743 non-null  int64  \n",
      " 53  OficinaCD                        1050741 non-null  object \n",
      " 54  OficinaDesc                      1050741 non-null  object \n",
      " 55  Zonal                            1050741 non-null  object \n",
      " 56  Regional                         1050741 non-null  object \n",
      "dtypes: float64(21), int64(19), object(17)\n",
      "memory usage: 465.0+ MB\n"
     ]
    }
   ],
   "source": [
    "#Número de datos en cada una de las variables del dataframe\n",
    "df_1.info()"
   ]
  },
  {
   "cell_type": "code",
   "execution_count": 7,
   "id": "WtKwf0lQ-LmC",
   "metadata": {
    "id": "WtKwf0lQ-LmC",
    "outputId": "24ed067d-22a3-409a-a32d-0ed7ef83236f"
   },
   "outputs": [
    {
     "data": {
      "text/html": [
       "<div>\n",
       "<style scoped>\n",
       "    .dataframe tbody tr th:only-of-type {\n",
       "        vertical-align: middle;\n",
       "    }\n",
       "\n",
       "    .dataframe tbody tr th {\n",
       "        vertical-align: top;\n",
       "    }\n",
       "\n",
       "    .dataframe thead th {\n",
       "        text-align: right;\n",
       "    }\n",
       "</style>\n",
       "<table border=\"1\" class=\"dataframe\">\n",
       "  <thead>\n",
       "    <tr style=\"text-align: right;\">\n",
       "      <th></th>\n",
       "      <th>key_0</th>\n",
       "      <th>FechaCorte</th>\n",
       "      <th>ClienteID</th>\n",
       "      <th>SegmentoDesc</th>\n",
       "      <th>SBAN</th>\n",
       "      <th>TipoDoctoIdentificacionCD</th>\n",
       "      <th>TipoPersonaDesc</th>\n",
       "      <th>NaturalezaJuridicaDesc</th>\n",
       "      <th>SexoDesc</th>\n",
       "      <th>Edad</th>\n",
       "      <th>...</th>\n",
       "      <th>NumeroProductosCaptacion</th>\n",
       "      <th>SaldoTotalCaptaciones</th>\n",
       "      <th>NumCreditosVencidos</th>\n",
       "      <th>NumeroTCVencidas</th>\n",
       "      <th>NumOperacionesCarteraVencida</th>\n",
       "      <th>SaldoTotalCarteraVencida</th>\n",
       "      <th>OficinaCD</th>\n",
       "      <th>OficinaDesc</th>\n",
       "      <th>Zonal</th>\n",
       "      <th>Regional</th>\n",
       "    </tr>\n",
       "  </thead>\n",
       "  <tbody>\n",
       "    <tr>\n",
       "      <th>332595</th>\n",
       "      <td>3029</td>\n",
       "      <td>2020-09-30</td>\n",
       "      <td>114914839</td>\n",
       "      <td>AGROPECUARIA</td>\n",
       "      <td>3029</td>\n",
       "      <td>CC</td>\n",
       "      <td>PERSONA</td>\n",
       "      <td>PARTICULAR</td>\n",
       "      <td>FEMENINO</td>\n",
       "      <td>26.0</td>\n",
       "      <td>...</td>\n",
       "      <td>1</td>\n",
       "      <td>0.0</td>\n",
       "      <td>0</td>\n",
       "      <td>0</td>\n",
       "      <td>0</td>\n",
       "      <td>0</td>\n",
       "      <td>NaN</td>\n",
       "      <td>NaN</td>\n",
       "      <td>NaN</td>\n",
       "      <td>NaN</td>\n",
       "    </tr>\n",
       "    <tr>\n",
       "      <th>734185</th>\n",
       "      <td>3029</td>\n",
       "      <td>2020-09-30</td>\n",
       "      <td>203103945</td>\n",
       "      <td>AGROPECUARIA</td>\n",
       "      <td>3029</td>\n",
       "      <td>CC</td>\n",
       "      <td>PERSONA</td>\n",
       "      <td>PARTICULAR</td>\n",
       "      <td>FEMENINO</td>\n",
       "      <td>21.0</td>\n",
       "      <td>...</td>\n",
       "      <td>1</td>\n",
       "      <td>0.0</td>\n",
       "      <td>0</td>\n",
       "      <td>0</td>\n",
       "      <td>0</td>\n",
       "      <td>0</td>\n",
       "      <td>NaN</td>\n",
       "      <td>NaN</td>\n",
       "      <td>NaN</td>\n",
       "      <td>NaN</td>\n",
       "    </tr>\n",
       "  </tbody>\n",
       "</table>\n",
       "<p>2 rows × 57 columns</p>\n",
       "</div>"
      ],
      "text/plain": [
       "        key_0  FechaCorte  ClienteID  SegmentoDesc  SBAN  \\\n",
       "332595   3029  2020-09-30  114914839  AGROPECUARIA  3029   \n",
       "734185   3029  2020-09-30  203103945  AGROPECUARIA  3029   \n",
       "\n",
       "       TipoDoctoIdentificacionCD TipoPersonaDesc NaturalezaJuridicaDesc  \\\n",
       "332595                        CC         PERSONA             PARTICULAR   \n",
       "734185                        CC         PERSONA             PARTICULAR   \n",
       "\n",
       "        SexoDesc  Edad  ... NumeroProductosCaptacion SaldoTotalCaptaciones  \\\n",
       "332595  FEMENINO  26.0  ...                        1                   0.0   \n",
       "734185  FEMENINO  21.0  ...                        1                   0.0   \n",
       "\n",
       "        NumCreditosVencidos NumeroTCVencidas NumOperacionesCarteraVencida  \\\n",
       "332595                    0                0                            0   \n",
       "734185                    0                0                            0   \n",
       "\n",
       "       SaldoTotalCarteraVencida OficinaCD OficinaDesc  Zonal  Regional  \n",
       "332595                        0       NaN         NaN    NaN       NaN  \n",
       "734185                        0       NaN         NaN    NaN       NaN  \n",
       "\n",
       "[2 rows x 57 columns]"
      ]
     },
     "execution_count": 7,
     "metadata": {},
     "output_type": "execute_result"
    }
   ],
   "source": [
    "#Registros con valores nulos \n",
    "df_1[df_1.Regional.isnull()]"
   ]
  },
  {
   "cell_type": "code",
   "execution_count": 8,
   "id": "lRtWhYfV-LmC",
   "metadata": {
    "id": "lRtWhYfV-LmC",
    "outputId": "bc902d9c-6b0f-4701-875c-d1267fd11fca",
    "scrolled": true
   },
   "outputs": [
    {
     "name": "stdout",
     "output_type": "stream",
     "text": [
      "<class 'pandas.core.frame.DataFrame'>\n",
      "Int64Index: 1050741 entries, 0 to 1050742\n",
      "Data columns (total 53 columns):\n",
      " #   Column                           Non-Null Count    Dtype  \n",
      "---  ------                           --------------    -----  \n",
      " 0   FechaCorte                       1050741 non-null  object \n",
      " 1   ClienteID                        1050741 non-null  int64  \n",
      " 2   SegmentoDesc                     1050741 non-null  object \n",
      " 3   SBAN                             1050741 non-null  int64  \n",
      " 4   TipoDoctoIdentificacionCD        1050741 non-null  object \n",
      " 5   TipoPersonaDesc                  1050741 non-null  object \n",
      " 6   NaturalezaJuridicaDesc           1050729 non-null  object \n",
      " 7   SexoDesc                         1032303 non-null  object \n",
      " 8   Edad                             1032303 non-null  float64\n",
      " 9   EstadoCivilDesc                  1022521 non-null  object \n",
      " 10  ProfesionDesc                    1023597 non-null  object \n",
      " 11  Cod_CIIU                         1050717 non-null  float64\n",
      " 12  ClienteFallecido                 1050741 non-null  object \n",
      " 13  indClienteEsEmpleado             1036754 non-null  object \n",
      " 14  FechaVinculacionBAC              1050725 non-null  object \n",
      " 15  EstadoClienteDesc                1050741 non-null  object \n",
      " 16  TipoClienteDesc                  1050741 non-null  object \n",
      " 17  ValorActivos                     1042127 non-null  float64\n",
      " 18  ValorEgresos                     1042847 non-null  float64\n",
      " 19  ValorIngresos                    1042750 non-null  float64\n",
      " 20  ValorOtrosingresos               629326 non-null   float64\n",
      " 21  ValorPatrimonio                  1042127 non-null  float64\n",
      " 22  TotalPasivos                     1041963 non-null  float64\n",
      " 23  NumCreditos                      1050741 non-null  int64  \n",
      " 24  SaldoCreditos                    1050741 non-null  float64\n",
      " 25  SaldoCarteraVencida              1050741 non-null  int64  \n",
      " 26  NumeroTC                         1050741 non-null  int64  \n",
      " 27  SaldoTC                          1050741 non-null  float64\n",
      " 28  SaldoTCVencido                   1050741 non-null  float64\n",
      " 29  NumeroSobregisrosUso             1050741 non-null  int64  \n",
      " 30  SaldoSobregirosUso               1050741 non-null  float64\n",
      " 31  SaldoSobregirosVencidos          1050741 non-null  float64\n",
      " 32  NumeroCuentasAhorroActivas       1050741 non-null  int64  \n",
      " 33  SaldoCuentasAhorroActivas        1050741 non-null  float64\n",
      " 34  NumeroCuentasAhorroInactivas     1050741 non-null  int64  \n",
      " 35  SaldoCuentasAhorroInactivas      1050741 non-null  float64\n",
      " 36  NumeroCuentasCorrienteActivas    1050741 non-null  int64  \n",
      " 37  SaldoCuentasCorrienteActivas     1050741 non-null  float64\n",
      " 38  NumeroCuentascorrienteInactivas  1050741 non-null  int64  \n",
      " 39  SaldoCuentascorrienteInactivas   1050741 non-null  float64\n",
      " 40  NumeroCDT                        1050741 non-null  int64  \n",
      " 41  SaldoCDT                         1050741 non-null  float64\n",
      " 42  NumeroCDAT                       1050741 non-null  int64  \n",
      " 43  SaldoCDAT                        1050741 non-null  float64\n",
      " 44  SaldoTotalCartera                1050741 non-null  float64\n",
      " 45  NumeroOperacionesCartera         1050741 non-null  int64  \n",
      " 46  NumeroProductosCaptacion         1050741 non-null  int64  \n",
      " 47  SaldoTotalCaptaciones            1050741 non-null  float64\n",
      " 48  NumCreditosVencidos              1050741 non-null  int64  \n",
      " 49  NumeroTCVencidas                 1050741 non-null  int64  \n",
      " 50  NumOperacionesCarteraVencida     1050741 non-null  int64  \n",
      " 51  SaldoTotalCarteraVencida         1050741 non-null  int64  \n",
      " 52  Regional                         1050741 non-null  object \n",
      "dtypes: float64(21), int64(18), object(14)\n",
      "memory usage: 432.9+ MB\n"
     ]
    }
   ],
   "source": [
    "df_1 = df_1[df_1.OficinaCD.notnull()].drop(['key_0','OficinaCD','OficinaDesc','Zonal'], axis=1)\n",
    "df_1.info()"
   ]
  },
  {
   "cell_type": "code",
   "execution_count": 9,
   "id": "wQeUx6IQ-LmD",
   "metadata": {
    "id": "wQeUx6IQ-LmD",
    "outputId": "afdcd896-6300-4cf9-93c1-70e918f12a29"
   },
   "outputs": [
    {
     "data": {
      "text/html": [
       "<div>\n",
       "<style scoped>\n",
       "    .dataframe tbody tr th:only-of-type {\n",
       "        vertical-align: middle;\n",
       "    }\n",
       "\n",
       "    .dataframe tbody tr th {\n",
       "        vertical-align: top;\n",
       "    }\n",
       "\n",
       "    .dataframe thead th {\n",
       "        text-align: right;\n",
       "    }\n",
       "</style>\n",
       "<table border=\"1\" class=\"dataframe\">\n",
       "  <thead>\n",
       "    <tr style=\"text-align: right;\">\n",
       "      <th></th>\n",
       "      <th>FechaCorte</th>\n",
       "      <th>ClienteID</th>\n",
       "      <th>SegmentoDesc</th>\n",
       "      <th>SBAN</th>\n",
       "      <th>TipoDoctoIdentificacionCD</th>\n",
       "      <th>TipoPersonaDesc</th>\n",
       "      <th>NaturalezaJuridicaDesc</th>\n",
       "      <th>SexoDesc</th>\n",
       "      <th>Edad</th>\n",
       "      <th>EstadoCivilDesc</th>\n",
       "      <th>...</th>\n",
       "      <th>SaldoCDAT</th>\n",
       "      <th>SaldoTotalCartera</th>\n",
       "      <th>NumeroOperacionesCartera</th>\n",
       "      <th>NumeroProductosCaptacion</th>\n",
       "      <th>SaldoTotalCaptaciones</th>\n",
       "      <th>NumCreditosVencidos</th>\n",
       "      <th>NumeroTCVencidas</th>\n",
       "      <th>NumOperacionesCarteraVencida</th>\n",
       "      <th>SaldoTotalCarteraVencida</th>\n",
       "      <th>Regional</th>\n",
       "    </tr>\n",
       "  </thead>\n",
       "  <tbody>\n",
       "    <tr>\n",
       "      <th>0</th>\n",
       "      <td>2020-09-30</td>\n",
       "      <td>432064</td>\n",
       "      <td>AGROPECUARIA</td>\n",
       "      <td>2104</td>\n",
       "      <td>CC</td>\n",
       "      <td>PERSONA</td>\n",
       "      <td>PARTICULAR</td>\n",
       "      <td>MASCULINO</td>\n",
       "      <td>118.0</td>\n",
       "      <td>NaN</td>\n",
       "      <td>...</td>\n",
       "      <td>0.0</td>\n",
       "      <td>0.0</td>\n",
       "      <td>0</td>\n",
       "      <td>2</td>\n",
       "      <td>5016932.75</td>\n",
       "      <td>0</td>\n",
       "      <td>0</td>\n",
       "      <td>0</td>\n",
       "      <td>0</td>\n",
       "      <td>OCCIDENTE</td>\n",
       "    </tr>\n",
       "    <tr>\n",
       "      <th>1</th>\n",
       "      <td>2020-09-30</td>\n",
       "      <td>4661392</td>\n",
       "      <td>AGROPECUARIA</td>\n",
       "      <td>70</td>\n",
       "      <td>CC</td>\n",
       "      <td>PERSONA</td>\n",
       "      <td>PARTICULAR</td>\n",
       "      <td>MASCULINO</td>\n",
       "      <td>36.0</td>\n",
       "      <td>SOLTERO</td>\n",
       "      <td>...</td>\n",
       "      <td>0.0</td>\n",
       "      <td>0.0</td>\n",
       "      <td>0</td>\n",
       "      <td>2</td>\n",
       "      <td>15068450.16</td>\n",
       "      <td>0</td>\n",
       "      <td>0</td>\n",
       "      <td>0</td>\n",
       "      <td>0</td>\n",
       "      <td>BOGOTA</td>\n",
       "    </tr>\n",
       "    <tr>\n",
       "      <th>2</th>\n",
       "      <td>2020-09-30</td>\n",
       "      <td>4045005</td>\n",
       "      <td>AGROPECUARIA</td>\n",
       "      <td>4840</td>\n",
       "      <td>CC</td>\n",
       "      <td>PERSONA</td>\n",
       "      <td>PARTICULAR</td>\n",
       "      <td>MASCULINO</td>\n",
       "      <td>41.0</td>\n",
       "      <td>CASADO</td>\n",
       "      <td>...</td>\n",
       "      <td>0.0</td>\n",
       "      <td>5999542.0</td>\n",
       "      <td>1</td>\n",
       "      <td>1</td>\n",
       "      <td>4526.00</td>\n",
       "      <td>0</td>\n",
       "      <td>0</td>\n",
       "      <td>0</td>\n",
       "      <td>0</td>\n",
       "      <td>OCCIDENTE</td>\n",
       "    </tr>\n",
       "    <tr>\n",
       "      <th>3</th>\n",
       "      <td>2020-09-30</td>\n",
       "      <td>112514252</td>\n",
       "      <td>AGROPECUARIA</td>\n",
       "      <td>6048</td>\n",
       "      <td>CC</td>\n",
       "      <td>PERSONA</td>\n",
       "      <td>PARTICULAR</td>\n",
       "      <td>MASCULINO</td>\n",
       "      <td>43.0</td>\n",
       "      <td>SOLTERO</td>\n",
       "      <td>...</td>\n",
       "      <td>0.0</td>\n",
       "      <td>5674272.0</td>\n",
       "      <td>2</td>\n",
       "      <td>1</td>\n",
       "      <td>10135.00</td>\n",
       "      <td>0</td>\n",
       "      <td>0</td>\n",
       "      <td>0</td>\n",
       "      <td>0</td>\n",
       "      <td>SANTANDER</td>\n",
       "    </tr>\n",
       "    <tr>\n",
       "      <th>4</th>\n",
       "      <td>2020-09-30</td>\n",
       "      <td>7291870</td>\n",
       "      <td>AGROPECUARIA</td>\n",
       "      <td>2180</td>\n",
       "      <td>CC</td>\n",
       "      <td>PERSONA</td>\n",
       "      <td>PARTICULAR</td>\n",
       "      <td>FEMENINO</td>\n",
       "      <td>43.0</td>\n",
       "      <td>SOLTERO</td>\n",
       "      <td>...</td>\n",
       "      <td>0.0</td>\n",
       "      <td>0.0</td>\n",
       "      <td>0</td>\n",
       "      <td>2</td>\n",
       "      <td>3871.70</td>\n",
       "      <td>0</td>\n",
       "      <td>0</td>\n",
       "      <td>0</td>\n",
       "      <td>0</td>\n",
       "      <td>OCCIDENTE</td>\n",
       "    </tr>\n",
       "    <tr>\n",
       "      <th>...</th>\n",
       "      <td>...</td>\n",
       "      <td>...</td>\n",
       "      <td>...</td>\n",
       "      <td>...</td>\n",
       "      <td>...</td>\n",
       "      <td>...</td>\n",
       "      <td>...</td>\n",
       "      <td>...</td>\n",
       "      <td>...</td>\n",
       "      <td>...</td>\n",
       "      <td>...</td>\n",
       "      <td>...</td>\n",
       "      <td>...</td>\n",
       "      <td>...</td>\n",
       "      <td>...</td>\n",
       "      <td>...</td>\n",
       "      <td>...</td>\n",
       "      <td>...</td>\n",
       "      <td>...</td>\n",
       "      <td>...</td>\n",
       "      <td>...</td>\n",
       "    </tr>\n",
       "    <tr>\n",
       "      <th>1050738</th>\n",
       "      <td>2020-09-30</td>\n",
       "      <td>112977945</td>\n",
       "      <td>AGROPECUARIA</td>\n",
       "      <td>4842</td>\n",
       "      <td>CC</td>\n",
       "      <td>PERSONA</td>\n",
       "      <td>PARTICULAR</td>\n",
       "      <td>MASCULINO</td>\n",
       "      <td>34.0</td>\n",
       "      <td>SOLTERO</td>\n",
       "      <td>...</td>\n",
       "      <td>0.0</td>\n",
       "      <td>0.0</td>\n",
       "      <td>0</td>\n",
       "      <td>0</td>\n",
       "      <td>0.00</td>\n",
       "      <td>0</td>\n",
       "      <td>0</td>\n",
       "      <td>0</td>\n",
       "      <td>0</td>\n",
       "      <td>OCCIDENTE</td>\n",
       "    </tr>\n",
       "    <tr>\n",
       "      <th>1050739</th>\n",
       "      <td>2020-09-30</td>\n",
       "      <td>4857604</td>\n",
       "      <td>AGROPECUARIA</td>\n",
       "      <td>3360</td>\n",
       "      <td>CC</td>\n",
       "      <td>PERSONA</td>\n",
       "      <td>PARTICULAR</td>\n",
       "      <td>FEMENINO</td>\n",
       "      <td>62.0</td>\n",
       "      <td>SOLTERO</td>\n",
       "      <td>...</td>\n",
       "      <td>0.0</td>\n",
       "      <td>1178699.0</td>\n",
       "      <td>1</td>\n",
       "      <td>1</td>\n",
       "      <td>6237.00</td>\n",
       "      <td>0</td>\n",
       "      <td>0</td>\n",
       "      <td>0</td>\n",
       "      <td>0</td>\n",
       "      <td>ANTIOQUIA</td>\n",
       "    </tr>\n",
       "    <tr>\n",
       "      <th>1050740</th>\n",
       "      <td>2020-09-30</td>\n",
       "      <td>2018333</td>\n",
       "      <td>AGROPECUARIA</td>\n",
       "      <td>1316</td>\n",
       "      <td>CC</td>\n",
       "      <td>PERSONA</td>\n",
       "      <td>PARTICULAR</td>\n",
       "      <td>MASCULINO</td>\n",
       "      <td>64.0</td>\n",
       "      <td>SOLTERO</td>\n",
       "      <td>...</td>\n",
       "      <td>0.0</td>\n",
       "      <td>18870762.0</td>\n",
       "      <td>2</td>\n",
       "      <td>1</td>\n",
       "      <td>0.67</td>\n",
       "      <td>1</td>\n",
       "      <td>0</td>\n",
       "      <td>1</td>\n",
       "      <td>0</td>\n",
       "      <td>ANTIOQUIA</td>\n",
       "    </tr>\n",
       "    <tr>\n",
       "      <th>1050741</th>\n",
       "      <td>2020-09-30</td>\n",
       "      <td>58778467</td>\n",
       "      <td>AGROPECUARIA</td>\n",
       "      <td>6080</td>\n",
       "      <td>CC</td>\n",
       "      <td>PERSONA</td>\n",
       "      <td>PARTICULAR</td>\n",
       "      <td>MASCULINO</td>\n",
       "      <td>41.0</td>\n",
       "      <td>CASADO</td>\n",
       "      <td>...</td>\n",
       "      <td>0.0</td>\n",
       "      <td>0.0</td>\n",
       "      <td>0</td>\n",
       "      <td>1</td>\n",
       "      <td>9754.23</td>\n",
       "      <td>0</td>\n",
       "      <td>0</td>\n",
       "      <td>0</td>\n",
       "      <td>0</td>\n",
       "      <td>SANTANDER</td>\n",
       "    </tr>\n",
       "    <tr>\n",
       "      <th>1050742</th>\n",
       "      <td>2020-09-30</td>\n",
       "      <td>5355677</td>\n",
       "      <td>AGROPECUARIA</td>\n",
       "      <td>1548</td>\n",
       "      <td>CC</td>\n",
       "      <td>PERSONA</td>\n",
       "      <td>PARTICULAR</td>\n",
       "      <td>MASCULINO</td>\n",
       "      <td>48.0</td>\n",
       "      <td>SOLTERO</td>\n",
       "      <td>...</td>\n",
       "      <td>0.0</td>\n",
       "      <td>0.0</td>\n",
       "      <td>0</td>\n",
       "      <td>3</td>\n",
       "      <td>242147.47</td>\n",
       "      <td>0</td>\n",
       "      <td>0</td>\n",
       "      <td>0</td>\n",
       "      <td>0</td>\n",
       "      <td>ORIENTE</td>\n",
       "    </tr>\n",
       "  </tbody>\n",
       "</table>\n",
       "<p>1050741 rows × 53 columns</p>\n",
       "</div>"
      ],
      "text/plain": [
       "         FechaCorte  ClienteID  SegmentoDesc  SBAN TipoDoctoIdentificacionCD  \\\n",
       "0        2020-09-30     432064  AGROPECUARIA  2104                        CC   \n",
       "1        2020-09-30    4661392  AGROPECUARIA    70                        CC   \n",
       "2        2020-09-30    4045005  AGROPECUARIA  4840                        CC   \n",
       "3        2020-09-30  112514252  AGROPECUARIA  6048                        CC   \n",
       "4        2020-09-30    7291870  AGROPECUARIA  2180                        CC   \n",
       "...             ...        ...           ...   ...                       ...   \n",
       "1050738  2020-09-30  112977945  AGROPECUARIA  4842                        CC   \n",
       "1050739  2020-09-30    4857604  AGROPECUARIA  3360                        CC   \n",
       "1050740  2020-09-30    2018333  AGROPECUARIA  1316                        CC   \n",
       "1050741  2020-09-30   58778467  AGROPECUARIA  6080                        CC   \n",
       "1050742  2020-09-30    5355677  AGROPECUARIA  1548                        CC   \n",
       "\n",
       "        TipoPersonaDesc NaturalezaJuridicaDesc   SexoDesc   Edad  \\\n",
       "0               PERSONA             PARTICULAR  MASCULINO  118.0   \n",
       "1               PERSONA             PARTICULAR  MASCULINO   36.0   \n",
       "2               PERSONA             PARTICULAR  MASCULINO   41.0   \n",
       "3               PERSONA             PARTICULAR  MASCULINO   43.0   \n",
       "4               PERSONA             PARTICULAR   FEMENINO   43.0   \n",
       "...                 ...                    ...        ...    ...   \n",
       "1050738         PERSONA             PARTICULAR  MASCULINO   34.0   \n",
       "1050739         PERSONA             PARTICULAR   FEMENINO   62.0   \n",
       "1050740         PERSONA             PARTICULAR  MASCULINO   64.0   \n",
       "1050741         PERSONA             PARTICULAR  MASCULINO   41.0   \n",
       "1050742         PERSONA             PARTICULAR  MASCULINO   48.0   \n",
       "\n",
       "        EstadoCivilDesc  ... SaldoCDAT  SaldoTotalCartera  \\\n",
       "0                   NaN  ...       0.0                0.0   \n",
       "1               SOLTERO  ...       0.0                0.0   \n",
       "2                CASADO  ...       0.0          5999542.0   \n",
       "3               SOLTERO  ...       0.0          5674272.0   \n",
       "4               SOLTERO  ...       0.0                0.0   \n",
       "...                 ...  ...       ...                ...   \n",
       "1050738         SOLTERO  ...       0.0                0.0   \n",
       "1050739         SOLTERO  ...       0.0          1178699.0   \n",
       "1050740         SOLTERO  ...       0.0         18870762.0   \n",
       "1050741          CASADO  ...       0.0                0.0   \n",
       "1050742         SOLTERO  ...       0.0                0.0   \n",
       "\n",
       "        NumeroOperacionesCartera NumeroProductosCaptacion  \\\n",
       "0                              0                        2   \n",
       "1                              0                        2   \n",
       "2                              1                        1   \n",
       "3                              2                        1   \n",
       "4                              0                        2   \n",
       "...                          ...                      ...   \n",
       "1050738                        0                        0   \n",
       "1050739                        1                        1   \n",
       "1050740                        2                        1   \n",
       "1050741                        0                        1   \n",
       "1050742                        0                        3   \n",
       "\n",
       "        SaldoTotalCaptaciones NumCreditosVencidos NumeroTCVencidas  \\\n",
       "0                  5016932.75                   0                0   \n",
       "1                 15068450.16                   0                0   \n",
       "2                     4526.00                   0                0   \n",
       "3                    10135.00                   0                0   \n",
       "4                     3871.70                   0                0   \n",
       "...                       ...                 ...              ...   \n",
       "1050738                  0.00                   0                0   \n",
       "1050739               6237.00                   0                0   \n",
       "1050740                  0.67                   1                0   \n",
       "1050741               9754.23                   0                0   \n",
       "1050742             242147.47                   0                0   \n",
       "\n",
       "         NumOperacionesCarteraVencida  SaldoTotalCarteraVencida   Regional  \n",
       "0                                   0                         0  OCCIDENTE  \n",
       "1                                   0                         0     BOGOTA  \n",
       "2                                   0                         0  OCCIDENTE  \n",
       "3                                   0                         0  SANTANDER  \n",
       "4                                   0                         0  OCCIDENTE  \n",
       "...                               ...                       ...        ...  \n",
       "1050738                             0                         0  OCCIDENTE  \n",
       "1050739                             0                         0  ANTIOQUIA  \n",
       "1050740                             1                         0  ANTIOQUIA  \n",
       "1050741                             0                         0  SANTANDER  \n",
       "1050742                             0                         0    ORIENTE  \n",
       "\n",
       "[1050741 rows x 53 columns]"
      ]
     },
     "execution_count": 9,
     "metadata": {},
     "output_type": "execute_result"
    }
   ],
   "source": [
    "df_1"
   ]
  },
  {
   "cell_type": "code",
   "execution_count": 10,
   "id": "N4w5DvqU-LmE",
   "metadata": {
    "id": "N4w5DvqU-LmE",
    "outputId": "fa54a165-06ae-4cc5-f4c8-a2b19d2ec49b"
   },
   "outputs": [
    {
     "name": "stdout",
     "output_type": "stream",
     "text": [
      "Datasets lengh: 1050741\n",
      "Unique values for FechaCorte: 1\n",
      "Unique values for ClienteID: 1050741\n",
      "Unique values for SegmentoDesc: 1\n",
      "Unique values for SBAN: 785\n",
      "Unique values for TipoDoctoIdentificacionCD: 9\n",
      "Unique values for TipoPersonaDesc: 2\n",
      "Unique values for NaturalezaJuridicaDesc: 3\n",
      "Unique values for SexoDesc: 3\n",
      "Unique values for Edad: 18553\n",
      "Unique values for EstadoCivilDesc: 7\n",
      "Unique values for ProfesionDesc: 153\n",
      "Unique values for Cod_CIIU: 483\n",
      "Unique values for ClienteFallecido: 2\n",
      "Unique values for indClienteEsEmpleado: 3\n",
      "Unique values for FechaVinculacionBAC: 16956\n",
      "Unique values for EstadoClienteDesc: 2\n",
      "Unique values for TipoClienteDesc: 2\n"
     ]
    }
   ],
   "source": [
    "print(f\"Datasets lengh: {len(df_1)}\")\n",
    "for col in df_1.columns[0:17,]:\n",
    "    print(f\"Unique values for {col}: {len(set(df_1[col]))}\")"
   ]
  },
  {
   "cell_type": "code",
   "execution_count": 11,
   "id": "OHzEkOnc-LmF",
   "metadata": {
    "id": "OHzEkOnc-LmF",
    "outputId": "972b0be4-aceb-4fb7-95af-5565e8b5aacc"
   },
   "outputs": [
    {
     "data": {
      "text/plain": [
       "array(['CC', 'N', 'CE', 'TI', 'NI', 'RC', 'PP', 'JU', 'PA'], dtype=object)"
      ]
     },
     "execution_count": 11,
     "metadata": {},
     "output_type": "execute_result"
    }
   ],
   "source": [
    "pd.unique(df_1['TipoDoctoIdentificacionCD'])"
   ]
  },
  {
   "cell_type": "code",
   "execution_count": 12,
   "id": "RrWRa9p3-LmF",
   "metadata": {
    "id": "RrWRa9p3-LmF"
   },
   "outputs": [],
   "source": [
    "datos=df_1[df_1['TipoDoctoIdentificacionCD']==\"CC\"]"
   ]
  },
  {
   "cell_type": "code",
   "execution_count": 13,
   "id": "AjMZ6z0h-LmF",
   "metadata": {
    "id": "AjMZ6z0h-LmF",
    "outputId": "4b55419a-db64-4346-cc3e-396a391ba4ee"
   },
   "outputs": [
    {
     "name": "stdout",
     "output_type": "stream",
     "text": [
      "Datasets lengh: 1031749\n",
      "Unique values for FechaCorte: 1\n",
      "Unique values for ClienteID: 1031749\n",
      "Unique values for SegmentoDesc: 1\n",
      "Unique values for SBAN: 785\n",
      "Unique values for TipoDoctoIdentificacionCD: 1\n",
      "Unique values for TipoPersonaDesc: 1\n",
      "Unique values for NaturalezaJuridicaDesc: 2\n",
      "Unique values for SexoDesc: 2\n",
      "Unique values for Edad: 100\n",
      "Unique values for EstadoCivilDesc: 7\n",
      "Unique values for ProfesionDesc: 153\n",
      "Unique values for Cod_CIIU: 417\n",
      "Unique values for ClienteFallecido: 2\n",
      "Unique values for indClienteEsEmpleado: 3\n",
      "Unique values for FechaVinculacionBAC: 16934\n",
      "Unique values for EstadoClienteDesc: 2\n",
      "Unique values for TipoClienteDesc: 2\n"
     ]
    }
   ],
   "source": [
    "print(f\"Datasets lengh: {len(datos)}\")\n",
    "for col in datos.columns[0:17,]:\n",
    "    print(f\"Unique values for {col}: {len(set(datos[col]))}\")"
   ]
  },
  {
   "cell_type": "code",
   "execution_count": 14,
   "id": "jO37JnnI-LmG",
   "metadata": {
    "id": "jO37JnnI-LmG"
   },
   "outputs": [],
   "source": [
    "datos_1=datos.drop(['FechaCorte','SegmentoDesc','TipoPersonaDesc','Cod_CIIU'],axis=1)"
   ]
  },
  {
   "cell_type": "code",
   "execution_count": 15,
   "id": "FeQGNd09-LmG",
   "metadata": {
    "id": "FeQGNd09-LmG",
    "outputId": "b874c6d5-1ba6-4ddf-bf94-7494beed09c6"
   },
   "outputs": [
    {
     "data": {
      "text/plain": [
       "ClienteID                               0\n",
       "SBAN                                    0\n",
       "TipoDoctoIdentificacionCD               0\n",
       "NaturalezaJuridicaDesc                 12\n",
       "SexoDesc                                0\n",
       "Edad                                    0\n",
       "EstadoCivilDesc                      9780\n",
       "ProfesionDesc                        8704\n",
       "ClienteFallecido                        0\n",
       "indClienteEsEmpleado                   11\n",
       "FechaVinculacionBAC                    16\n",
       "EstadoClienteDesc                       0\n",
       "TipoClienteDesc                         0\n",
       "ValorActivos                         8606\n",
       "ValorEgresos                         7886\n",
       "ValorIngresos                        7983\n",
       "ValorOtrosingresos                 409925\n",
       "ValorPatrimonio                      8606\n",
       "TotalPasivos                         8768\n",
       "NumCreditos                             0\n",
       "SaldoCreditos                           0\n",
       "SaldoCarteraVencida                     0\n",
       "NumeroTC                                0\n",
       "SaldoTC                                 0\n",
       "SaldoTCVencido                          0\n",
       "NumeroSobregisrosUso                    0\n",
       "SaldoSobregirosUso                      0\n",
       "SaldoSobregirosVencidos                 0\n",
       "NumeroCuentasAhorroActivas              0\n",
       "SaldoCuentasAhorroActivas               0\n",
       "NumeroCuentasAhorroInactivas            0\n",
       "SaldoCuentasAhorroInactivas             0\n",
       "NumeroCuentasCorrienteActivas           0\n",
       "SaldoCuentasCorrienteActivas            0\n",
       "NumeroCuentascorrienteInactivas         0\n",
       "SaldoCuentascorrienteInactivas          0\n",
       "NumeroCDT                               0\n",
       "SaldoCDT                                0\n",
       "NumeroCDAT                              0\n",
       "SaldoCDAT                               0\n",
       "SaldoTotalCartera                       0\n",
       "NumeroOperacionesCartera                0\n",
       "NumeroProductosCaptacion                0\n",
       "SaldoTotalCaptaciones                   0\n",
       "NumCreditosVencidos                     0\n",
       "NumeroTCVencidas                        0\n",
       "NumOperacionesCarteraVencida            0\n",
       "SaldoTotalCarteraVencida                0\n",
       "Regional                                0\n",
       "dtype: int64"
      ]
     },
     "execution_count": 15,
     "metadata": {},
     "output_type": "execute_result"
    }
   ],
   "source": [
    "datos_1.isnull().sum()"
   ]
  },
  {
   "cell_type": "code",
   "execution_count": 16,
   "id": "WTEzAyma-LmH",
   "metadata": {
    "id": "WTEzAyma-LmH",
    "outputId": "14731427-9cfe-4d05-e688-fdd27391cf91"
   },
   "outputs": [
    {
     "name": "stdout",
     "output_type": "stream",
     "text": [
      "['PARTICULAR' nan]\n",
      "['N' 'S' nan]\n",
      "['1982-12-30' '2006-02-09' '2004-11-11' ... '1976-09-12' '1979-10-22'\n",
      " '1980-03-09']\n"
     ]
    }
   ],
   "source": [
    "print(pd.unique(datos_1['NaturalezaJuridicaDesc']))\n",
    "print(pd.unique(datos_1['indClienteEsEmpleado']))\n",
    "print(pd.unique(datos_1['FechaVinculacionBAC']))"
   ]
  },
  {
   "cell_type": "code",
   "execution_count": 17,
   "id": "aHTmDKIi-LmH",
   "metadata": {
    "id": "aHTmDKIi-LmH"
   },
   "outputs": [],
   "source": [
    "datos_1=datos_1.dropna(subset=['indClienteEsEmpleado', 'FechaVinculacionBAC'])"
   ]
  },
  {
   "cell_type": "code",
   "execution_count": 18,
   "id": "rm4LRNAW-LmH",
   "metadata": {
    "id": "rm4LRNAW-LmH"
   },
   "outputs": [],
   "source": [
    "datos_1[\"NaturalezaJuridicaDesc\"].fillna(\"PARTICULAR\", inplace = True) "
   ]
  },
  {
   "cell_type": "code",
   "execution_count": 19,
   "id": "VL0Ofg-1-LmH",
   "metadata": {
    "id": "VL0Ofg-1-LmH",
    "outputId": "09b2dfca-9967-4caf-8519-e5d3a287ec1e"
   },
   "outputs": [
    {
     "data": {
      "text/plain": [
       "array(['PARTICULAR'], dtype=object)"
      ]
     },
     "execution_count": 19,
     "metadata": {},
     "output_type": "execute_result"
    }
   ],
   "source": [
    "pd.unique(datos_1['NaturalezaJuridicaDesc'])"
   ]
  },
  {
   "cell_type": "code",
   "execution_count": 20,
   "id": "F9G7YsN1-LmH",
   "metadata": {
    "id": "F9G7YsN1-LmH",
    "outputId": "ce2b6ac1-abb3-495c-93a0-1d558017c1ad"
   },
   "outputs": [
    {
     "data": {
      "text/plain": [
       "ClienteID                               0\n",
       "SBAN                                    0\n",
       "TipoDoctoIdentificacionCD               0\n",
       "NaturalezaJuridicaDesc                  0\n",
       "SexoDesc                                0\n",
       "Edad                                    0\n",
       "EstadoCivilDesc                      9780\n",
       "ProfesionDesc                        8704\n",
       "ClienteFallecido                        0\n",
       "indClienteEsEmpleado                    0\n",
       "FechaVinculacionBAC                     0\n",
       "EstadoClienteDesc                       0\n",
       "TipoClienteDesc                         0\n",
       "ValorActivos                         8595\n",
       "ValorEgresos                         7875\n",
       "ValorIngresos                        7972\n",
       "ValorOtrosingresos                 409898\n",
       "ValorPatrimonio                      8595\n",
       "TotalPasivos                         8757\n",
       "NumCreditos                             0\n",
       "SaldoCreditos                           0\n",
       "SaldoCarteraVencida                     0\n",
       "NumeroTC                                0\n",
       "SaldoTC                                 0\n",
       "SaldoTCVencido                          0\n",
       "NumeroSobregisrosUso                    0\n",
       "SaldoSobregirosUso                      0\n",
       "SaldoSobregirosVencidos                 0\n",
       "NumeroCuentasAhorroActivas              0\n",
       "SaldoCuentasAhorroActivas               0\n",
       "NumeroCuentasAhorroInactivas            0\n",
       "SaldoCuentasAhorroInactivas             0\n",
       "NumeroCuentasCorrienteActivas           0\n",
       "SaldoCuentasCorrienteActivas            0\n",
       "NumeroCuentascorrienteInactivas         0\n",
       "SaldoCuentascorrienteInactivas          0\n",
       "NumeroCDT                               0\n",
       "SaldoCDT                                0\n",
       "NumeroCDAT                              0\n",
       "SaldoCDAT                               0\n",
       "SaldoTotalCartera                       0\n",
       "NumeroOperacionesCartera                0\n",
       "NumeroProductosCaptacion                0\n",
       "SaldoTotalCaptaciones                   0\n",
       "NumCreditosVencidos                     0\n",
       "NumeroTCVencidas                        0\n",
       "NumOperacionesCarteraVencida            0\n",
       "SaldoTotalCarteraVencida                0\n",
       "Regional                                0\n",
       "dtype: int64"
      ]
     },
     "execution_count": 20,
     "metadata": {},
     "output_type": "execute_result"
    }
   ],
   "source": [
    "datos_1.isnull().sum()"
   ]
  },
  {
   "cell_type": "code",
   "execution_count": 21,
   "id": "Cy5Y1FxT-LmI",
   "metadata": {
    "id": "Cy5Y1FxT-LmI",
    "outputId": "54193c12-f6d6-459c-c6a0-974c0a66c649"
   },
   "outputs": [
    {
     "data": {
      "text/plain": [
       "Regional\n",
       "ANTIOQUIA    130923\n",
       "BOGOTA       141525\n",
       "CAFETERA      63606\n",
       "COSTA         60384\n",
       "OCCIDENTE    191238\n",
       "ORIENTE      139880\n",
       "SANTANDER    107208\n",
       "SUR          196958\n",
       "Name: Regional, dtype: int64"
      ]
     },
     "execution_count": 21,
     "metadata": {},
     "output_type": "execute_result"
    }
   ],
   "source": [
    "datos_2=datos_1.groupby(\"Regional\")['Regional'].count()\n",
    "datos_2"
   ]
  },
  {
   "cell_type": "code",
   "execution_count": 22,
   "id": "AUaXTokn-LmI",
   "metadata": {
    "id": "AUaXTokn-LmI",
    "outputId": "459c3082-777c-43c9-fc66-43d901af1f46"
   },
   "outputs": [
    {
     "name": "stdout",
     "output_type": "stream",
     "text": [
      "Datasets lengh: 509297\n"
     ]
    },
    {
     "data": {
      "text/plain": [
       "ClienteID                               0\n",
       "SBAN                                    0\n",
       "TipoDoctoIdentificacionCD               0\n",
       "NaturalezaJuridicaDesc                  0\n",
       "SexoDesc                                0\n",
       "Edad                                    0\n",
       "EstadoCivilDesc                      4020\n",
       "ProfesionDesc                        3627\n",
       "ClienteFallecido                        0\n",
       "indClienteEsEmpleado                    0\n",
       "FechaVinculacionBAC                     0\n",
       "EstadoClienteDesc                       0\n",
       "TipoClienteDesc                         0\n",
       "ValorActivos                         4279\n",
       "ValorEgresos                         4040\n",
       "ValorIngresos                        4078\n",
       "ValorOtrosingresos                 195860\n",
       "ValorPatrimonio                      4279\n",
       "TotalPasivos                         4242\n",
       "NumCreditos                             0\n",
       "SaldoCreditos                           0\n",
       "SaldoCarteraVencida                     0\n",
       "NumeroTC                                0\n",
       "SaldoTC                                 0\n",
       "SaldoTCVencido                          0\n",
       "NumeroSobregisrosUso                    0\n",
       "SaldoSobregirosUso                      0\n",
       "SaldoSobregirosVencidos                 0\n",
       "NumeroCuentasAhorroActivas              0\n",
       "SaldoCuentasAhorroActivas               0\n",
       "NumeroCuentasAhorroInactivas            0\n",
       "SaldoCuentasAhorroInactivas             0\n",
       "NumeroCuentasCorrienteActivas           0\n",
       "SaldoCuentasCorrienteActivas            0\n",
       "NumeroCuentascorrienteInactivas         0\n",
       "SaldoCuentascorrienteInactivas          0\n",
       "NumeroCDT                               0\n",
       "SaldoCDT                                0\n",
       "NumeroCDAT                              0\n",
       "SaldoCDAT                               0\n",
       "SaldoTotalCartera                       0\n",
       "NumeroOperacionesCartera                0\n",
       "NumeroProductosCaptacion                0\n",
       "SaldoTotalCaptaciones                   0\n",
       "NumCreditosVencidos                     0\n",
       "NumeroTCVencidas                        0\n",
       "NumOperacionesCarteraVencida            0\n",
       "SaldoTotalCarteraVencida                0\n",
       "Regional                                0\n",
       "dtype: int64"
      ]
     },
     "execution_count": 22,
     "metadata": {},
     "output_type": "execute_result"
    }
   ],
   "source": [
    "datos_3=datos_1[datos_1.Regional.isin(['BOGOTA','SUR','SANTANDER','CAFETERA'])]\n",
    "print(f\"Datasets lengh: {len(datos_3)}\")\n",
    "datos_3.isnull().sum()"
   ]
  },
  {
   "cell_type": "code",
   "execution_count": 23,
   "id": "9G86J3oM-LmI",
   "metadata": {
    "id": "9G86J3oM-LmI"
   },
   "outputs": [],
   "source": [
    "datos_4=datos_3.fillna({'EstadoCivilDesc':'NO REPORTA','ProfesionDesc':'NO REPORTA'})"
   ]
  },
  {
   "cell_type": "code",
   "execution_count": 24,
   "id": "StPBf-cY-LmJ",
   "metadata": {
    "id": "StPBf-cY-LmJ"
   },
   "outputs": [],
   "source": [
    "datos_4[\"ValorOtrosingresos\"].fillna(0, inplace = True)"
   ]
  },
  {
   "cell_type": "code",
   "execution_count": 25,
   "id": "qQg_6EpS-LmJ",
   "metadata": {
    "id": "qQg_6EpS-LmJ"
   },
   "outputs": [],
   "source": [
    "na_cols = datos_4.isna().any()\n",
    "na_cols = na_cols[na_cols == True].reset_index()\n",
    "na_cols = na_cols[\"index\"].tolist()\n",
    "for col in datos_4.columns[1:]:\n",
    "     if col in na_cols:\n",
    "        if datos_4[col].dtype != 'object':\n",
    "             datos_4[col] =  datos_4[col].fillna(datos_4[col].mean()).round(0)"
   ]
  },
  {
   "cell_type": "code",
   "execution_count": 26,
   "id": "R3hJsZen-LmJ",
   "metadata": {
    "id": "R3hJsZen-LmJ",
    "outputId": "44c1ebd3-72fd-4603-fd89-9c09a8c9b932"
   },
   "outputs": [
    {
     "name": "stdout",
     "output_type": "stream",
     "text": [
      "Datasets lengh: 509297\n"
     ]
    },
    {
     "data": {
      "text/plain": [
       "ClienteID                          0\n",
       "SBAN                               0\n",
       "TipoDoctoIdentificacionCD          0\n",
       "NaturalezaJuridicaDesc             0\n",
       "SexoDesc                           0\n",
       "Edad                               0\n",
       "EstadoCivilDesc                    0\n",
       "ProfesionDesc                      0\n",
       "ClienteFallecido                   0\n",
       "indClienteEsEmpleado               0\n",
       "FechaVinculacionBAC                0\n",
       "EstadoClienteDesc                  0\n",
       "TipoClienteDesc                    0\n",
       "ValorActivos                       0\n",
       "ValorEgresos                       0\n",
       "ValorIngresos                      0\n",
       "ValorOtrosingresos                 0\n",
       "ValorPatrimonio                    0\n",
       "TotalPasivos                       0\n",
       "NumCreditos                        0\n",
       "SaldoCreditos                      0\n",
       "SaldoCarteraVencida                0\n",
       "NumeroTC                           0\n",
       "SaldoTC                            0\n",
       "SaldoTCVencido                     0\n",
       "NumeroSobregisrosUso               0\n",
       "SaldoSobregirosUso                 0\n",
       "SaldoSobregirosVencidos            0\n",
       "NumeroCuentasAhorroActivas         0\n",
       "SaldoCuentasAhorroActivas          0\n",
       "NumeroCuentasAhorroInactivas       0\n",
       "SaldoCuentasAhorroInactivas        0\n",
       "NumeroCuentasCorrienteActivas      0\n",
       "SaldoCuentasCorrienteActivas       0\n",
       "NumeroCuentascorrienteInactivas    0\n",
       "SaldoCuentascorrienteInactivas     0\n",
       "NumeroCDT                          0\n",
       "SaldoCDT                           0\n",
       "NumeroCDAT                         0\n",
       "SaldoCDAT                          0\n",
       "SaldoTotalCartera                  0\n",
       "NumeroOperacionesCartera           0\n",
       "NumeroProductosCaptacion           0\n",
       "SaldoTotalCaptaciones              0\n",
       "NumCreditosVencidos                0\n",
       "NumeroTCVencidas                   0\n",
       "NumOperacionesCarteraVencida       0\n",
       "SaldoTotalCarteraVencida           0\n",
       "Regional                           0\n",
       "dtype: int64"
      ]
     },
     "execution_count": 26,
     "metadata": {},
     "output_type": "execute_result"
    }
   ],
   "source": [
    "print(f\"Datasets lengh: {len(datos_4)}\")\n",
    "datos_4.isnull().sum()"
   ]
  },
  {
   "cell_type": "code",
   "execution_count": 27,
   "id": "LmLwj01d-LmJ",
   "metadata": {
    "id": "LmLwj01d-LmJ",
    "outputId": "017dbcc4-10a6-4957-d351-90cfb33298d1"
   },
   "outputs": [
    {
     "name": "stdout",
     "output_type": "stream",
     "text": [
      "['INACTIVO' 'ACTIVO']\n"
     ]
    }
   ],
   "source": [
    "print(pd.unique(datos_1['EstadoClienteDesc']))"
   ]
  },
  {
   "cell_type": "code",
   "execution_count": 28,
   "id": "mRNO8M4u-LmJ",
   "metadata": {
    "id": "mRNO8M4u-LmJ"
   },
   "outputs": [],
   "source": [
    "datos_4['Churn']=datos_4['EstadoClienteDesc'].map({'INACTIVO':0,'ACTIVO':1})"
   ]
  },
  {
   "cell_type": "code",
   "execution_count": 29,
   "id": "HP5Jxr_q-LmK",
   "metadata": {
    "id": "HP5Jxr_q-LmK",
    "outputId": "6c5c2940-ff3f-4f4f-9d97-b18106546db7"
   },
   "outputs": [
    {
     "name": "stderr",
     "output_type": "stream",
     "text": [
      "`distplot` is a deprecated function and will be removed in a future version. Please adapt your code to use either `displot` (a figure-level function with similar flexibility) or `histplot` (an axes-level function for histograms).\n"
     ]
    },
    {
     "data": {
      "image/png": "[encoded data removed]",
      "text/plain": [
       "<Figure size 432x288 with 1 Axes>"
      ]
     },
     "metadata": {
      "needs_background": "light"
     },
     "output_type": "display_data"
    }
   ],
   "source": [
    "plot=sns.distplot(datos_4['Churn'])"
   ]
  },
  {
   "cell_type": "code",
   "execution_count": 30,
   "id": "dx7p5pzM-LmK",
   "metadata": {
    "id": "dx7p5pzM-LmK",
    "outputId": "3ebeb7df-3e47-4dd4-c998-4cc949e60a7d"
   },
   "outputs": [
    {
     "name": "stderr",
     "output_type": "stream",
     "text": [
      "More than 20 figures have been opened. Figures created through the pyplot interface (`matplotlib.pyplot.figure`) are retained until explicitly closed and may consume too much memory. (To control this warning, see the rcParam `figure.max_open_warning`).\n"
     ]
    },
    {
     "data": {
      "image/png": "[encoded data removed]",
      "text/plain": [
       "<Figure size 1224x72 with 1 Axes>"
      ]
     },
     "metadata": {
      "needs_background": "light"
     },
     "output_type": "display_data"
    },
    {
     "data": {
      "image/png": "[encoded data removed]",
      "text/plain": [
       "<Figure size 1224x72 with 1 Axes>"
      ]
     },
     "metadata": {
      "needs_background": "light"
     },
     "output_type": "display_data"
    },
    {
     "data": {
      "image/png": "[encoded data removed]",
      "text/plain": [
       "<Figure size 1224x72 with 1 Axes>"
      ]
     },
     "metadata": {
      "needs_background": "light"
     },
     "output_type": "display_data"
    },
    {
     "data": {
      "image/png": "[encoded data removed]",
      "text/plain": [
       "<Figure size 1224x72 with 1 Axes>"
      ]
     },
     "metadata": {
      "needs_background": "light"
     },
     "output_type": "display_data"
    },
    {
     "data": {
      "image/png": "[encoded data removed]",
      "text/plain": [
       "<Figure size 1224x72 with 1 Axes>"
      ]
     },
     "metadata": {
      "needs_background": "light"
     },
     "output_type": "display_data"
    },
    {
     "data": {
      "image/png": "[encoded data removed]",
      "text/plain": [
       "<Figure size 1224x72 with 1 Axes>"
      ]
     },
     "metadata": {
      "needs_background": "light"
     },
     "output_type": "display_data"
    },
    {
     "data": {
      "image/png": "[encoded data removed]",
      "text/plain": [
       "<Figure size 1224x72 with 1 Axes>"
      ]
     },
     "metadata": {
      "needs_background": "light"
     },
     "output_type": "display_data"
    },
    {
     "data": {
      "image/png": "[encoded data removed]",
      "text/plain": [
       "<Figure size 1224x72 with 1 Axes>"
      ]
     },
     "metadata": {
      "needs_background": "light"
     },
     "output_type": "display_data"
    },
    {
     "data": {
      "image/png": "[encoded data removed]",
      "text/plain": [
       "<Figure size 1224x72 with 1 Axes>"
      ]
     },
     "metadata": {
      "needs_background": "light"
     },
     "output_type": "display_data"
    },
    {
     "data": {
      "image/png": "[encoded data removed]",
      "text/plain": [
       "<Figure size 1224x72 with 1 Axes>"
      ]
     },
     "metadata": {
      "needs_background": "light"
     },
     "output_type": "display_data"
    },
    {
     "data": {
      "image/png": "[encoded data removed]",
      "text/plain": [
       "<Figure size 1224x72 with 1 Axes>"
      ]
     },
     "metadata": {
      "needs_background": "light"
     },
     "output_type": "display_data"
    },
    {
     "data": {
      "image/png": "[encoded data removed]",
      "text/plain": [
       "<Figure size 1224x72 with 1 Axes>"
      ]
     },
     "metadata": {
      "needs_background": "light"
     },
     "output_type": "display_data"
    },
    {
     "data": {
      "image/png": "[encoded data removed]",
      "text/plain": [
       "<Figure size 1224x72 with 1 Axes>"
      ]
     },
     "metadata": {
      "needs_background": "light"
     },
     "output_type": "display_data"
    },
    {
     "data": {
      "image/png": "[encoded data removed]",
      "text/plain": [
       "<Figure size 1224x72 with 1 Axes>"
      ]
     },
     "metadata": {
      "needs_background": "light"
     },
     "output_type": "display_data"
    },
    {
     "data": {
      "image/png": "[encoded data removed]",
      "text/plain": [
       "<Figure size 1224x72 with 1 Axes>"
      ]
     },
     "metadata": {
      "needs_background": "light"
     },
     "output_type": "display_data"
    },
    {
     "data": {
      "image/png": "[encoded data removed]",
      "text/plain": [
       "<Figure size 1224x72 with 1 Axes>"
      ]
     },
     "metadata": {
      "needs_background": "light"
     },
     "output_type": "display_data"
    },
    {
     "data": {
      "image/png": "[encoded data removed]",
      "text/plain": [
       "<Figure size 1224x72 with 1 Axes>"
      ]
     },
     "metadata": {
      "needs_background": "light"
     },
     "output_type": "display_data"
    },
    {
     "data": {
      "image/png": "[encoded data removed]",
      "text/plain": [
       "<Figure size 1224x72 with 1 Axes>"
      ]
     },
     "metadata": {
      "needs_background": "light"
     },
     "output_type": "display_data"
    },
    {
     "data": {
      "image/png": "[encoded data removed]",
      "text/plain": [
       "<Figure size 1224x72 with 1 Axes>"
      ]
     },
     "metadata": {
      "needs_background": "light"
     },
     "output_type": "display_data"
    },
    {
     "data": {
      "image/png": "[encoded data removed]",
      "text/plain": [
       "<Figure size 1224x72 with 1 Axes>"
      ]
     },
     "metadata": {
      "needs_background": "light"
     },
     "output_type": "display_data"
    },
    {
     "data": {
      "image/png": "[encoded data removed]",
      "text/plain": [
       "<Figure size 1224x72 with 1 Axes>"
      ]
     },
     "metadata": {
      "needs_background": "light"
     },
     "output_type": "display_data"
    },
    {
     "data": {
      "image/png": "[encoded data removed]",
      "text/plain": [
       "<Figure size 1224x72 with 1 Axes>"
      ]
     },
     "metadata": {
      "needs_background": "light"
     },
     "output_type": "display_data"
    },
    {
     "data": {
      "image/png": "[encoded data removed]",
      "text/plain": [
       "<Figure size 1224x72 with 1 Axes>"
      ]
     },
     "metadata": {
      "needs_background": "light"
     },
     "output_type": "display_data"
    },
    {
     "data": {
      "image/png": "[encoded data removed]",
      "text/plain": [
       "<Figure size 1224x72 with 1 Axes>"
      ]
     },
     "metadata": {
      "needs_background": "light"
     },
     "output_type": "display_data"
    },
    {
     "data": {
      "image/png": "[encoded data removed]",
      "text/plain": [
       "<Figure size 1224x72 with 1 Axes>"
      ]
     },
     "metadata": {
      "needs_background": "light"
     },
     "output_type": "display_data"
    },
    {
     "data": {
      "image/png": "[encoded data removed]",
      "text/plain": [
       "<Figure size 1224x72 with 1 Axes>"
      ]
     },
     "metadata": {
      "needs_background": "light"
     },
     "output_type": "display_data"
    },
    {
     "data": {
      "image/png": "[encoded data removed]",
      "text/plain": [
       "<Figure size 1224x72 with 1 Axes>"
      ]
     },
     "metadata": {
      "needs_background": "light"
     },
     "output_type": "display_data"
    },
    {
     "data": {
      "image/png": "[encoded data removed]",
      "text/plain": [
       "<Figure size 1224x72 with 1 Axes>"
      ]
     },
     "metadata": {
      "needs_background": "light"
     },
     "output_type": "display_data"
    },
    {
     "data": {
      "image/png": "[encoded data removed]",
      "text/plain": [
       "<Figure size 1224x72 with 1 Axes>"
      ]
     },
     "metadata": {
      "needs_background": "light"
     },
     "output_type": "display_data"
    },
    {
     "data": {
      "image/png": "[encoded data removed]",
      "text/plain": [
       "<Figure size 1224x72 with 1 Axes>"
      ]
     },
     "metadata": {
      "needs_background": "light"
     },
     "output_type": "display_data"
    },
    {
     "data": {
      "image/png": "[encoded data removed]",
      "text/plain": [
       "<Figure size 1224x72 with 1 Axes>"
      ]
     },
     "metadata": {
      "needs_background": "light"
     },
     "output_type": "display_data"
    },
    {
     "data": {
      "image/png": "[encoded data removed]",
      "text/plain": [
       "<Figure size 1224x72 with 1 Axes>"
      ]
     },
     "metadata": {
      "needs_background": "light"
     },
     "output_type": "display_data"
    },
    {
     "data": {
      "image/png": "[encoded data removed]",
      "text/plain": [
       "<Figure size 1224x72 with 1 Axes>"
      ]
     },
     "metadata": {
      "needs_background": "light"
     },
     "output_type": "display_data"
    },
    {
     "data": {
      "image/png": "[encoded data removed]",
      "text/plain": [
       "<Figure size 1224x72 with 1 Axes>"
      ]
     },
     "metadata": {
      "needs_background": "light"
     },
     "output_type": "display_data"
    },
    {
     "data": {
      "image/png": "[encoded data removed]",
      "text/plain": [
       "<Figure size 1224x72 with 1 Axes>"
      ]
     },
     "metadata": {
      "needs_background": "light"
     },
     "output_type": "display_data"
    },
    {
     "data": {
      "image/png": "[encoded data removed]",
      "text/plain": [
       "<Figure size 1224x72 with 1 Axes>"
      ]
     },
     "metadata": {
      "needs_background": "light"
     },
     "output_type": "display_data"
    },
    {
     "data": {
      "image/png": "[encoded data removed]",
      "text/plain": [
       "<Figure size 1224x72 with 1 Axes>"
      ]
     },
     "metadata": {
      "needs_background": "light"
     },
     "output_type": "display_data"
    },
    {
     "data": {
      "image/png": "[encoded data removed]",
      "text/plain": [
       "<Figure size 1224x72 with 1 Axes>"
      ]
     },
     "metadata": {
      "needs_background": "light"
     },
     "output_type": "display_data"
    },
    {
     "data": {
      "image/png": "[encoded data removed]",
      "text/plain": [
       "<Figure size 1224x72 with 1 Axes>"
      ]
     },
     "metadata": {
      "needs_background": "light"
     },
     "output_type": "display_data"
    }
   ],
   "source": [
    "df1=datos_4.select_dtypes(exclude=['object'])\n",
    "for column in df1:\n",
    "        plt.figure(figsize=(17,1))\n",
    "        sns.boxplot(data=df1, x=column)"
   ]
  },
  {
   "cell_type": "code",
   "execution_count": 31,
   "id": "aoLnIFAH-LmK",
   "metadata": {
    "id": "aoLnIFAH-LmK"
   },
   "outputs": [
    {
     "data": {
      "text/html": [
       "<div>\n",
       "<style scoped>\n",
       "    .dataframe tbody tr th:only-of-type {\n",
       "        vertical-align: middle;\n",
       "    }\n",
       "\n",
       "    .dataframe tbody tr th {\n",
       "        vertical-align: top;\n",
       "    }\n",
       "\n",
       "    .dataframe thead th {\n",
       "        text-align: right;\n",
       "    }\n",
       "</style>\n",
       "<table border=\"1\" class=\"dataframe\">\n",
       "  <thead>\n",
       "    <tr style=\"text-align: right;\">\n",
       "      <th></th>\n",
       "      <th>FechaCorte</th>\n",
       "      <th>ClienteID</th>\n",
       "      <th>SegmentoDesc</th>\n",
       "      <th>SBAN</th>\n",
       "      <th>TipoDoctoIdentificacionCD</th>\n",
       "      <th>TipoPersonaDesc</th>\n",
       "      <th>NaturalezaJuridicaDesc</th>\n",
       "      <th>SexoDesc</th>\n",
       "      <th>Edad</th>\n",
       "      <th>EstadoCivilDesc</th>\n",
       "      <th>...</th>\n",
       "      <th>SaldoCDAT</th>\n",
       "      <th>SaldoTotalCartera</th>\n",
       "      <th>NumeroOperacionesCartera</th>\n",
       "      <th>NumeroProductosCaptacion</th>\n",
       "      <th>SaldoTotalCaptaciones</th>\n",
       "      <th>NumCreditosVencidos</th>\n",
       "      <th>NumeroTCVencidas</th>\n",
       "      <th>NumOperacionesCarteraVencida</th>\n",
       "      <th>SaldoTotalCarteraVencida</th>\n",
       "      <th>Regional</th>\n",
       "    </tr>\n",
       "  </thead>\n",
       "  <tbody>\n",
       "  </tbody>\n",
       "</table>\n",
       "<p>0 rows × 53 columns</p>\n",
       "</div>"
      ],
      "text/plain": [
       "Empty DataFrame\n",
       "Columns: [FechaCorte, ClienteID, SegmentoDesc, SBAN, TipoDoctoIdentificacionCD, TipoPersonaDesc, NaturalezaJuridicaDesc, SexoDesc, Edad, EstadoCivilDesc, ProfesionDesc, Cod_CIIU, ClienteFallecido, indClienteEsEmpleado, FechaVinculacionBAC, EstadoClienteDesc, TipoClienteDesc, ValorActivos, ValorEgresos, ValorIngresos, ValorOtrosingresos, ValorPatrimonio, TotalPasivos, NumCreditos, SaldoCreditos, SaldoCarteraVencida, NumeroTC, SaldoTC, SaldoTCVencido, NumeroSobregisrosUso, SaldoSobregirosUso, SaldoSobregirosVencidos, NumeroCuentasAhorroActivas, SaldoCuentasAhorroActivas, NumeroCuentasAhorroInactivas, SaldoCuentasAhorroInactivas, NumeroCuentasCorrienteActivas, SaldoCuentasCorrienteActivas, NumeroCuentascorrienteInactivas, SaldoCuentascorrienteInactivas, NumeroCDT, SaldoCDT, NumeroCDAT, SaldoCDAT, SaldoTotalCartera, NumeroOperacionesCartera, NumeroProductosCaptacion, SaldoTotalCaptaciones, NumCreditosVencidos, NumeroTCVencidas, NumOperacionesCarteraVencida, SaldoTotalCarteraVencida, Regional]\n",
       "Index: []\n",
       "\n",
       "[0 rows x 53 columns]"
      ]
     },
     "execution_count": 31,
     "metadata": {},
     "output_type": "execute_result"
    }
   ],
   "source": [
    "datos[datos.duplicated()==True]"
   ]
  },
  {
   "cell_type": "code",
   "execution_count": 32,
   "id": "kcFRaNQo-LmK",
   "metadata": {
    "id": "kcFRaNQo-LmK"
   },
   "outputs": [],
   "source": [
    "datos=datos.drop(['FechaCorte'],axis=1)"
   ]
  },
  {
   "cell_type": "code",
   "execution_count": 33,
   "id": "9qcvesSY-LmK",
   "metadata": {
    "id": "9qcvesSY-LmK"
   },
   "outputs": [
    {
     "data": {
      "text/plain": [
       "ClienteID                          0\n",
       "SBAN                               0\n",
       "TipoDoctoIdentificacionCD          0\n",
       "NaturalezaJuridicaDesc             0\n",
       "SexoDesc                           0\n",
       "Edad                               0\n",
       "EstadoCivilDesc                    0\n",
       "ProfesionDesc                      0\n",
       "ClienteFallecido                   0\n",
       "indClienteEsEmpleado               0\n",
       "FechaVinculacionBAC                0\n",
       "EstadoClienteDesc                  0\n",
       "TipoClienteDesc                    0\n",
       "ValorActivos                       0\n",
       "ValorEgresos                       0\n",
       "ValorIngresos                      0\n",
       "ValorOtrosingresos                 0\n",
       "ValorPatrimonio                    0\n",
       "TotalPasivos                       0\n",
       "NumCreditos                        0\n",
       "SaldoCreditos                      0\n",
       "SaldoCarteraVencida                0\n",
       "NumeroTC                           0\n",
       "SaldoTC                            0\n",
       "SaldoTCVencido                     0\n",
       "NumeroSobregisrosUso               0\n",
       "SaldoSobregirosUso                 0\n",
       "SaldoSobregirosVencidos            0\n",
       "NumeroCuentasAhorroActivas         0\n",
       "SaldoCuentasAhorroActivas          0\n",
       "NumeroCuentasAhorroInactivas       0\n",
       "SaldoCuentasAhorroInactivas        0\n",
       "NumeroCuentasCorrienteActivas      0\n",
       "SaldoCuentasCorrienteActivas       0\n",
       "NumeroCuentascorrienteInactivas    0\n",
       "SaldoCuentascorrienteInactivas     0\n",
       "NumeroCDT                          0\n",
       "SaldoCDT                           0\n",
       "NumeroCDAT                         0\n",
       "SaldoCDAT                          0\n",
       "SaldoTotalCartera                  0\n",
       "NumeroOperacionesCartera           0\n",
       "NumeroProductosCaptacion           0\n",
       "SaldoTotalCaptaciones              0\n",
       "NumCreditosVencidos                0\n",
       "NumeroTCVencidas                   0\n",
       "NumOperacionesCarteraVencida       0\n",
       "SaldoTotalCarteraVencida           0\n",
       "Regional                           0\n",
       "Churn                              0\n",
       "dtype: int64"
      ]
     },
     "execution_count": 33,
     "metadata": {},
     "output_type": "execute_result"
    }
   ],
   "source": [
    "datos_4.isnull().sum()"
   ]
  },
  {
   "cell_type": "code",
   "execution_count": 34,
   "id": "0HNAEr2M-LmK",
   "metadata": {
    "id": "0HNAEr2M-LmK"
   },
   "outputs": [
    {
     "data": {
      "text/html": [
       "<div>\n",
       "<style scoped>\n",
       "    .dataframe tbody tr th:only-of-type {\n",
       "        vertical-align: middle;\n",
       "    }\n",
       "\n",
       "    .dataframe tbody tr th {\n",
       "        vertical-align: top;\n",
       "    }\n",
       "\n",
       "    .dataframe thead th {\n",
       "        text-align: right;\n",
       "    }\n",
       "</style>\n",
       "<table border=\"1\" class=\"dataframe\">\n",
       "  <thead>\n",
       "    <tr style=\"text-align: right;\">\n",
       "      <th></th>\n",
       "      <th>ClienteID</th>\n",
       "      <th>SegmentoDesc</th>\n",
       "      <th>SBAN</th>\n",
       "      <th>TipoDoctoIdentificacionCD</th>\n",
       "      <th>TipoPersonaDesc</th>\n",
       "      <th>NaturalezaJuridicaDesc</th>\n",
       "      <th>SexoDesc</th>\n",
       "      <th>Edad</th>\n",
       "      <th>EstadoCivilDesc</th>\n",
       "      <th>ProfesionDesc</th>\n",
       "      <th>...</th>\n",
       "      <th>SaldoCDAT</th>\n",
       "      <th>SaldoTotalCartera</th>\n",
       "      <th>NumeroOperacionesCartera</th>\n",
       "      <th>NumeroProductosCaptacion</th>\n",
       "      <th>SaldoTotalCaptaciones</th>\n",
       "      <th>NumCreditosVencidos</th>\n",
       "      <th>NumeroTCVencidas</th>\n",
       "      <th>NumOperacionesCarteraVencida</th>\n",
       "      <th>SaldoTotalCarteraVencida</th>\n",
       "      <th>Regional</th>\n",
       "    </tr>\n",
       "  </thead>\n",
       "  <tbody>\n",
       "    <tr>\n",
       "      <th>100622</th>\n",
       "      <td>202113758</td>\n",
       "      <td>AGROPECUARIA</td>\n",
       "      <td>6915</td>\n",
       "      <td>CC</td>\n",
       "      <td>PERSONA</td>\n",
       "      <td>NaN</td>\n",
       "      <td>MASCULINO</td>\n",
       "      <td>29.0</td>\n",
       "      <td>SOLTERO</td>\n",
       "      <td>SIN PROFESION</td>\n",
       "      <td>...</td>\n",
       "      <td>0.0</td>\n",
       "      <td>0.0</td>\n",
       "      <td>0</td>\n",
       "      <td>1</td>\n",
       "      <td>6106.0</td>\n",
       "      <td>0</td>\n",
       "      <td>0</td>\n",
       "      <td>0</td>\n",
       "      <td>0</td>\n",
       "      <td>OCCIDENTE</td>\n",
       "    </tr>\n",
       "    <tr>\n",
       "      <th>104128</th>\n",
       "      <td>184160841</td>\n",
       "      <td>AGROPECUARIA</td>\n",
       "      <td>7370</td>\n",
       "      <td>CC</td>\n",
       "      <td>PERSONA</td>\n",
       "      <td>NaN</td>\n",
       "      <td>MASCULINO</td>\n",
       "      <td>30.0</td>\n",
       "      <td>SOLTERO</td>\n",
       "      <td>SIN PROFESION</td>\n",
       "      <td>...</td>\n",
       "      <td>0.0</td>\n",
       "      <td>0.0</td>\n",
       "      <td>0</td>\n",
       "      <td>1</td>\n",
       "      <td>6346.0</td>\n",
       "      <td>0</td>\n",
       "      <td>0</td>\n",
       "      <td>0</td>\n",
       "      <td>0</td>\n",
       "      <td>BOGOTA</td>\n",
       "    </tr>\n",
       "    <tr>\n",
       "      <th>394234</th>\n",
       "      <td>201414323</td>\n",
       "      <td>AGROPECUARIA</td>\n",
       "      <td>5130</td>\n",
       "      <td>CC</td>\n",
       "      <td>PERSONA</td>\n",
       "      <td>NaN</td>\n",
       "      <td>FEMENINO</td>\n",
       "      <td>21.0</td>\n",
       "      <td>SOLTERO</td>\n",
       "      <td>INGENIERO</td>\n",
       "      <td>...</td>\n",
       "      <td>0.0</td>\n",
       "      <td>0.0</td>\n",
       "      <td>0</td>\n",
       "      <td>2</td>\n",
       "      <td>126956.0</td>\n",
       "      <td>0</td>\n",
       "      <td>0</td>\n",
       "      <td>0</td>\n",
       "      <td>0</td>\n",
       "      <td>SANTANDER</td>\n",
       "    </tr>\n",
       "    <tr>\n",
       "      <th>505138</th>\n",
       "      <td>198803886</td>\n",
       "      <td>AGROPECUARIA</td>\n",
       "      <td>1428</td>\n",
       "      <td>CC</td>\n",
       "      <td>PERSONA</td>\n",
       "      <td>NaN</td>\n",
       "      <td>MASCULINO</td>\n",
       "      <td>36.0</td>\n",
       "      <td>SOLTERO</td>\n",
       "      <td>SIN PROFESION</td>\n",
       "      <td>...</td>\n",
       "      <td>0.0</td>\n",
       "      <td>0.0</td>\n",
       "      <td>0</td>\n",
       "      <td>1</td>\n",
       "      <td>31642.6</td>\n",
       "      <td>0</td>\n",
       "      <td>0</td>\n",
       "      <td>0</td>\n",
       "      <td>0</td>\n",
       "      <td>ANTIOQUIA</td>\n",
       "    </tr>\n",
       "    <tr>\n",
       "      <th>547658</th>\n",
       "      <td>202113883</td>\n",
       "      <td>AGROPECUARIA</td>\n",
       "      <td>4230</td>\n",
       "      <td>CC</td>\n",
       "      <td>PERSONA</td>\n",
       "      <td>NaN</td>\n",
       "      <td>MASCULINO</td>\n",
       "      <td>58.0</td>\n",
       "      <td>SOLTERO</td>\n",
       "      <td>SIN PROFESION</td>\n",
       "      <td>...</td>\n",
       "      <td>0.0</td>\n",
       "      <td>0.0</td>\n",
       "      <td>0</td>\n",
       "      <td>1</td>\n",
       "      <td>3179.0</td>\n",
       "      <td>0</td>\n",
       "      <td>0</td>\n",
       "      <td>0</td>\n",
       "      <td>0</td>\n",
       "      <td>COSTA</td>\n",
       "    </tr>\n",
       "    <tr>\n",
       "      <th>554815</th>\n",
       "      <td>202099649</td>\n",
       "      <td>AGROPECUARIA</td>\n",
       "      <td>4816</td>\n",
       "      <td>CC</td>\n",
       "      <td>PERSONA</td>\n",
       "      <td>NaN</td>\n",
       "      <td>MASCULINO</td>\n",
       "      <td>28.0</td>\n",
       "      <td>SOLTERO</td>\n",
       "      <td>SIN PROFESION</td>\n",
       "      <td>...</td>\n",
       "      <td>0.0</td>\n",
       "      <td>0.0</td>\n",
       "      <td>0</td>\n",
       "      <td>1</td>\n",
       "      <td>2134639.0</td>\n",
       "      <td>0</td>\n",
       "      <td>0</td>\n",
       "      <td>0</td>\n",
       "      <td>0</td>\n",
       "      <td>OCCIDENTE</td>\n",
       "    </tr>\n",
       "    <tr>\n",
       "      <th>603425</th>\n",
       "      <td>201536463</td>\n",
       "      <td>AGROPECUARIA</td>\n",
       "      <td>360</td>\n",
       "      <td>CC</td>\n",
       "      <td>PERSONA</td>\n",
       "      <td>NaN</td>\n",
       "      <td>MASCULINO</td>\n",
       "      <td>21.0</td>\n",
       "      <td>SOLTERO</td>\n",
       "      <td>SIN PROFESION</td>\n",
       "      <td>...</td>\n",
       "      <td>0.0</td>\n",
       "      <td>0.0</td>\n",
       "      <td>0</td>\n",
       "      <td>1</td>\n",
       "      <td>8000.0</td>\n",
       "      <td>0</td>\n",
       "      <td>0</td>\n",
       "      <td>0</td>\n",
       "      <td>0</td>\n",
       "      <td>BOGOTA</td>\n",
       "    </tr>\n",
       "    <tr>\n",
       "      <th>629220</th>\n",
       "      <td>128853041</td>\n",
       "      <td>AGROPECUARIA</td>\n",
       "      <td>6921</td>\n",
       "      <td>CC</td>\n",
       "      <td>PERSONA</td>\n",
       "      <td>NaN</td>\n",
       "      <td>MASCULINO</td>\n",
       "      <td>67.0</td>\n",
       "      <td>UNION LIBRE</td>\n",
       "      <td>TECNICO PROFESIONAL - INGENIERIA, ARQUITECTURA...</td>\n",
       "      <td>...</td>\n",
       "      <td>0.0</td>\n",
       "      <td>12599389.0</td>\n",
       "      <td>1</td>\n",
       "      <td>2</td>\n",
       "      <td>1412953.0</td>\n",
       "      <td>0</td>\n",
       "      <td>0</td>\n",
       "      <td>0</td>\n",
       "      <td>0</td>\n",
       "      <td>OCCIDENTE</td>\n",
       "    </tr>\n",
       "    <tr>\n",
       "      <th>666352</th>\n",
       "      <td>140880243</td>\n",
       "      <td>AGROPECUARIA</td>\n",
       "      <td>4884</td>\n",
       "      <td>CC</td>\n",
       "      <td>PERSONA</td>\n",
       "      <td>NaN</td>\n",
       "      <td>MASCULINO</td>\n",
       "      <td>21.0</td>\n",
       "      <td>SOLTERO</td>\n",
       "      <td>SIN PROFESION</td>\n",
       "      <td>...</td>\n",
       "      <td>0.0</td>\n",
       "      <td>5000000.0</td>\n",
       "      <td>1</td>\n",
       "      <td>2</td>\n",
       "      <td>17356.0</td>\n",
       "      <td>0</td>\n",
       "      <td>0</td>\n",
       "      <td>0</td>\n",
       "      <td>0</td>\n",
       "      <td>OCCIDENTE</td>\n",
       "    </tr>\n",
       "    <tr>\n",
       "      <th>728830</th>\n",
       "      <td>201241040</td>\n",
       "      <td>AGROPECUARIA</td>\n",
       "      <td>6032</td>\n",
       "      <td>CC</td>\n",
       "      <td>PERSONA</td>\n",
       "      <td>NaN</td>\n",
       "      <td>MASCULINO</td>\n",
       "      <td>21.0</td>\n",
       "      <td>SOLTERO</td>\n",
       "      <td>INGENIERO</td>\n",
       "      <td>...</td>\n",
       "      <td>0.0</td>\n",
       "      <td>22000000.0</td>\n",
       "      <td>1</td>\n",
       "      <td>2</td>\n",
       "      <td>1349.0</td>\n",
       "      <td>0</td>\n",
       "      <td>0</td>\n",
       "      <td>0</td>\n",
       "      <td>0</td>\n",
       "      <td>SANTANDER</td>\n",
       "    </tr>\n",
       "    <tr>\n",
       "      <th>904349</th>\n",
       "      <td>138961700</td>\n",
       "      <td>AGROPECUARIA</td>\n",
       "      <td>3640</td>\n",
       "      <td>CC</td>\n",
       "      <td>PERSONA</td>\n",
       "      <td>NaN</td>\n",
       "      <td>FEMENINO</td>\n",
       "      <td>47.0</td>\n",
       "      <td>CASADO</td>\n",
       "      <td>DISENO INDUSTRIAL</td>\n",
       "      <td>...</td>\n",
       "      <td>0.0</td>\n",
       "      <td>0.0</td>\n",
       "      <td>0</td>\n",
       "      <td>1</td>\n",
       "      <td>72812.0</td>\n",
       "      <td>0</td>\n",
       "      <td>0</td>\n",
       "      <td>0</td>\n",
       "      <td>0</td>\n",
       "      <td>COSTA</td>\n",
       "    </tr>\n",
       "    <tr>\n",
       "      <th>1028181</th>\n",
       "      <td>184160805</td>\n",
       "      <td>AGROPECUARIA</td>\n",
       "      <td>70</td>\n",
       "      <td>CC</td>\n",
       "      <td>PERSONA</td>\n",
       "      <td>NaN</td>\n",
       "      <td>MASCULINO</td>\n",
       "      <td>43.0</td>\n",
       "      <td>SOLTERO</td>\n",
       "      <td>SIN PROFESION</td>\n",
       "      <td>...</td>\n",
       "      <td>0.0</td>\n",
       "      <td>0.0</td>\n",
       "      <td>0</td>\n",
       "      <td>1</td>\n",
       "      <td>3981.0</td>\n",
       "      <td>0</td>\n",
       "      <td>0</td>\n",
       "      <td>0</td>\n",
       "      <td>0</td>\n",
       "      <td>BOGOTA</td>\n",
       "    </tr>\n",
       "  </tbody>\n",
       "</table>\n",
       "<p>12 rows × 52 columns</p>\n",
       "</div>"
      ],
      "text/plain": [
       "         ClienteID  SegmentoDesc  SBAN TipoDoctoIdentificacionCD  \\\n",
       "100622   202113758  AGROPECUARIA  6915                        CC   \n",
       "104128   184160841  AGROPECUARIA  7370                        CC   \n",
       "394234   201414323  AGROPECUARIA  5130                        CC   \n",
       "505138   198803886  AGROPECUARIA  1428                        CC   \n",
       "547658   202113883  AGROPECUARIA  4230                        CC   \n",
       "554815   202099649  AGROPECUARIA  4816                        CC   \n",
       "603425   201536463  AGROPECUARIA   360                        CC   \n",
       "629220   128853041  AGROPECUARIA  6921                        CC   \n",
       "666352   140880243  AGROPECUARIA  4884                        CC   \n",
       "728830   201241040  AGROPECUARIA  6032                        CC   \n",
       "904349   138961700  AGROPECUARIA  3640                        CC   \n",
       "1028181  184160805  AGROPECUARIA    70                        CC   \n",
       "\n",
       "        TipoPersonaDesc NaturalezaJuridicaDesc   SexoDesc  Edad  \\\n",
       "100622          PERSONA                    NaN  MASCULINO  29.0   \n",
       "104128          PERSONA                    NaN  MASCULINO  30.0   \n",
       "394234          PERSONA                    NaN   FEMENINO  21.0   \n",
       "505138          PERSONA                    NaN  MASCULINO  36.0   \n",
       "547658          PERSONA                    NaN  MASCULINO  58.0   \n",
       "554815          PERSONA                    NaN  MASCULINO  28.0   \n",
       "603425          PERSONA                    NaN  MASCULINO  21.0   \n",
       "629220          PERSONA                    NaN  MASCULINO  67.0   \n",
       "666352          PERSONA                    NaN  MASCULINO  21.0   \n",
       "728830          PERSONA                    NaN  MASCULINO  21.0   \n",
       "904349          PERSONA                    NaN   FEMENINO  47.0   \n",
       "1028181         PERSONA                    NaN  MASCULINO  43.0   \n",
       "\n",
       "        EstadoCivilDesc                                      ProfesionDesc  \\\n",
       "100622          SOLTERO                                      SIN PROFESION   \n",
       "104128          SOLTERO                                      SIN PROFESION   \n",
       "394234          SOLTERO                                          INGENIERO   \n",
       "505138          SOLTERO                                      SIN PROFESION   \n",
       "547658          SOLTERO                                      SIN PROFESION   \n",
       "554815          SOLTERO                                      SIN PROFESION   \n",
       "603425          SOLTERO                                      SIN PROFESION   \n",
       "629220      UNION LIBRE  TECNICO PROFESIONAL - INGENIERIA, ARQUITECTURA...   \n",
       "666352          SOLTERO                                      SIN PROFESION   \n",
       "728830          SOLTERO                                          INGENIERO   \n",
       "904349           CASADO                                  DISENO INDUSTRIAL   \n",
       "1028181         SOLTERO                                      SIN PROFESION   \n",
       "\n",
       "         ...  SaldoCDAT SaldoTotalCartera NumeroOperacionesCartera  \\\n",
       "100622   ...        0.0               0.0                        0   \n",
       "104128   ...        0.0               0.0                        0   \n",
       "394234   ...        0.0               0.0                        0   \n",
       "505138   ...        0.0               0.0                        0   \n",
       "547658   ...        0.0               0.0                        0   \n",
       "554815   ...        0.0               0.0                        0   \n",
       "603425   ...        0.0               0.0                        0   \n",
       "629220   ...        0.0        12599389.0                        1   \n",
       "666352   ...        0.0         5000000.0                        1   \n",
       "728830   ...        0.0        22000000.0                        1   \n",
       "904349   ...        0.0               0.0                        0   \n",
       "1028181  ...        0.0               0.0                        0   \n",
       "\n",
       "        NumeroProductosCaptacion SaldoTotalCaptaciones NumCreditosVencidos  \\\n",
       "100622                         1                6106.0                   0   \n",
       "104128                         1                6346.0                   0   \n",
       "394234                         2              126956.0                   0   \n",
       "505138                         1               31642.6                   0   \n",
       "547658                         1                3179.0                   0   \n",
       "554815                         1             2134639.0                   0   \n",
       "603425                         1                8000.0                   0   \n",
       "629220                         2             1412953.0                   0   \n",
       "666352                         2               17356.0                   0   \n",
       "728830                         2                1349.0                   0   \n",
       "904349                         1               72812.0                   0   \n",
       "1028181                        1                3981.0                   0   \n",
       "\n",
       "         NumeroTCVencidas  NumOperacionesCarteraVencida  \\\n",
       "100622                  0                             0   \n",
       "104128                  0                             0   \n",
       "394234                  0                             0   \n",
       "505138                  0                             0   \n",
       "547658                  0                             0   \n",
       "554815                  0                             0   \n",
       "603425                  0                             0   \n",
       "629220                  0                             0   \n",
       "666352                  0                             0   \n",
       "728830                  0                             0   \n",
       "904349                  0                             0   \n",
       "1028181                 0                             0   \n",
       "\n",
       "         SaldoTotalCarteraVencida   Regional  \n",
       "100622                          0  OCCIDENTE  \n",
       "104128                          0     BOGOTA  \n",
       "394234                          0  SANTANDER  \n",
       "505138                          0  ANTIOQUIA  \n",
       "547658                          0      COSTA  \n",
       "554815                          0  OCCIDENTE  \n",
       "603425                          0     BOGOTA  \n",
       "629220                          0  OCCIDENTE  \n",
       "666352                          0  OCCIDENTE  \n",
       "728830                          0  SANTANDER  \n",
       "904349                          0      COSTA  \n",
       "1028181                         0     BOGOTA  \n",
       "\n",
       "[12 rows x 52 columns]"
      ]
     },
     "execution_count": 34,
     "metadata": {},
     "output_type": "execute_result"
    }
   ],
   "source": [
    "datos_nulos=datos[datos.NaturalezaJuridicaDesc.isnull()]\n",
    "datos_nulos"
   ]
  },
  {
   "cell_type": "code",
   "execution_count": 35,
   "id": "a8f1cb40",
   "metadata": {},
   "outputs": [
    {
     "data": {
      "text/html": [
       "<div>\n",
       "<style scoped>\n",
       "    .dataframe tbody tr th:only-of-type {\n",
       "        vertical-align: middle;\n",
       "    }\n",
       "\n",
       "    .dataframe tbody tr th {\n",
       "        vertical-align: top;\n",
       "    }\n",
       "\n",
       "    .dataframe thead th {\n",
       "        text-align: right;\n",
       "    }\n",
       "</style>\n",
       "<table border=\"1\" class=\"dataframe\">\n",
       "  <thead>\n",
       "    <tr style=\"text-align: right;\">\n",
       "      <th></th>\n",
       "      <th>ClienteID</th>\n",
       "      <th>SBAN</th>\n",
       "      <th>TipoDoctoIdentificacionCD</th>\n",
       "      <th>NaturalezaJuridicaDesc</th>\n",
       "      <th>SexoDesc</th>\n",
       "      <th>Edad</th>\n",
       "      <th>EstadoCivilDesc</th>\n",
       "      <th>ProfesionDesc</th>\n",
       "      <th>ClienteFallecido</th>\n",
       "      <th>indClienteEsEmpleado</th>\n",
       "      <th>...</th>\n",
       "      <th>SaldoTotalCartera</th>\n",
       "      <th>NumeroOperacionesCartera</th>\n",
       "      <th>NumeroProductosCaptacion</th>\n",
       "      <th>SaldoTotalCaptaciones</th>\n",
       "      <th>NumCreditosVencidos</th>\n",
       "      <th>NumeroTCVencidas</th>\n",
       "      <th>NumOperacionesCarteraVencida</th>\n",
       "      <th>SaldoTotalCarteraVencida</th>\n",
       "      <th>Regional</th>\n",
       "      <th>Churn</th>\n",
       "    </tr>\n",
       "  </thead>\n",
       "  <tbody>\n",
       "    <tr>\n",
       "      <th>1</th>\n",
       "      <td>4661392</td>\n",
       "      <td>70</td>\n",
       "      <td>CC</td>\n",
       "      <td>PARTICULAR</td>\n",
       "      <td>MASCULINO</td>\n",
       "      <td>36.0</td>\n",
       "      <td>SOLTERO</td>\n",
       "      <td>SIN PROFESION</td>\n",
       "      <td>S/D</td>\n",
       "      <td>N</td>\n",
       "      <td>...</td>\n",
       "      <td>0.0</td>\n",
       "      <td>0</td>\n",
       "      <td>2</td>\n",
       "      <td>15068450.16</td>\n",
       "      <td>0</td>\n",
       "      <td>0</td>\n",
       "      <td>0</td>\n",
       "      <td>0</td>\n",
       "      <td>BOGOTA</td>\n",
       "      <td>0</td>\n",
       "    </tr>\n",
       "    <tr>\n",
       "      <th>3</th>\n",
       "      <td>112514252</td>\n",
       "      <td>6048</td>\n",
       "      <td>CC</td>\n",
       "      <td>PARTICULAR</td>\n",
       "      <td>MASCULINO</td>\n",
       "      <td>43.0</td>\n",
       "      <td>SOLTERO</td>\n",
       "      <td>SIN PROFESION</td>\n",
       "      <td>S/D</td>\n",
       "      <td>N</td>\n",
       "      <td>...</td>\n",
       "      <td>5674272.0</td>\n",
       "      <td>2</td>\n",
       "      <td>1</td>\n",
       "      <td>10135.00</td>\n",
       "      <td>0</td>\n",
       "      <td>0</td>\n",
       "      <td>0</td>\n",
       "      <td>0</td>\n",
       "      <td>SANTANDER</td>\n",
       "      <td>0</td>\n",
       "    </tr>\n",
       "    <tr>\n",
       "      <th>7</th>\n",
       "      <td>202348085</td>\n",
       "      <td>820</td>\n",
       "      <td>CC</td>\n",
       "      <td>PARTICULAR</td>\n",
       "      <td>FEMENINO</td>\n",
       "      <td>43.0</td>\n",
       "      <td>SOLTERO</td>\n",
       "      <td>ZOOTECNISTA</td>\n",
       "      <td>S/D</td>\n",
       "      <td>N</td>\n",
       "      <td>...</td>\n",
       "      <td>0.0</td>\n",
       "      <td>0</td>\n",
       "      <td>1</td>\n",
       "      <td>16336.00</td>\n",
       "      <td>0</td>\n",
       "      <td>0</td>\n",
       "      <td>0</td>\n",
       "      <td>0</td>\n",
       "      <td>BOGOTA</td>\n",
       "      <td>0</td>\n",
       "    </tr>\n",
       "    <tr>\n",
       "      <th>11</th>\n",
       "      <td>103657260</td>\n",
       "      <td>6660</td>\n",
       "      <td>CC</td>\n",
       "      <td>PARTICULAR</td>\n",
       "      <td>FEMENINO</td>\n",
       "      <td>64.0</td>\n",
       "      <td>CASADO</td>\n",
       "      <td>SIN PROFESION</td>\n",
       "      <td>S/D</td>\n",
       "      <td>N</td>\n",
       "      <td>...</td>\n",
       "      <td>0.0</td>\n",
       "      <td>0</td>\n",
       "      <td>1</td>\n",
       "      <td>6989978.00</td>\n",
       "      <td>0</td>\n",
       "      <td>0</td>\n",
       "      <td>0</td>\n",
       "      <td>0</td>\n",
       "      <td>SUR</td>\n",
       "      <td>0</td>\n",
       "    </tr>\n",
       "    <tr>\n",
       "      <th>12</th>\n",
       "      <td>111512743</td>\n",
       "      <td>3950</td>\n",
       "      <td>CC</td>\n",
       "      <td>PARTICULAR</td>\n",
       "      <td>MASCULINO</td>\n",
       "      <td>30.0</td>\n",
       "      <td>UNION LIBRE</td>\n",
       "      <td>SIN PROFESION</td>\n",
       "      <td>S/D</td>\n",
       "      <td>N</td>\n",
       "      <td>...</td>\n",
       "      <td>4999926.0</td>\n",
       "      <td>1</td>\n",
       "      <td>1</td>\n",
       "      <td>7276.00</td>\n",
       "      <td>0</td>\n",
       "      <td>0</td>\n",
       "      <td>0</td>\n",
       "      <td>0</td>\n",
       "      <td>SUR</td>\n",
       "      <td>1</td>\n",
       "    </tr>\n",
       "    <tr>\n",
       "      <th>...</th>\n",
       "      <td>...</td>\n",
       "      <td>...</td>\n",
       "      <td>...</td>\n",
       "      <td>...</td>\n",
       "      <td>...</td>\n",
       "      <td>...</td>\n",
       "      <td>...</td>\n",
       "      <td>...</td>\n",
       "      <td>...</td>\n",
       "      <td>...</td>\n",
       "      <td>...</td>\n",
       "      <td>...</td>\n",
       "      <td>...</td>\n",
       "      <td>...</td>\n",
       "      <td>...</td>\n",
       "      <td>...</td>\n",
       "      <td>...</td>\n",
       "      <td>...</td>\n",
       "      <td>...</td>\n",
       "      <td>...</td>\n",
       "      <td>...</td>\n",
       "    </tr>\n",
       "    <tr>\n",
       "      <th>1050722</th>\n",
       "      <td>9082425</td>\n",
       "      <td>6017</td>\n",
       "      <td>CC</td>\n",
       "      <td>PARTICULAR</td>\n",
       "      <td>MASCULINO</td>\n",
       "      <td>42.0</td>\n",
       "      <td>CASADO</td>\n",
       "      <td>SIN PROFESION</td>\n",
       "      <td>S/D</td>\n",
       "      <td>N</td>\n",
       "      <td>...</td>\n",
       "      <td>0.0</td>\n",
       "      <td>0</td>\n",
       "      <td>1</td>\n",
       "      <td>4331.00</td>\n",
       "      <td>0</td>\n",
       "      <td>0</td>\n",
       "      <td>0</td>\n",
       "      <td>0</td>\n",
       "      <td>SANTANDER</td>\n",
       "      <td>1</td>\n",
       "    </tr>\n",
       "    <tr>\n",
       "      <th>1050724</th>\n",
       "      <td>9600217</td>\n",
       "      <td>230</td>\n",
       "      <td>CC</td>\n",
       "      <td>PARTICULAR</td>\n",
       "      <td>FEMENINO</td>\n",
       "      <td>36.0</td>\n",
       "      <td>SEPARADO</td>\n",
       "      <td>SIN PROFESION</td>\n",
       "      <td>S/D</td>\n",
       "      <td>N</td>\n",
       "      <td>...</td>\n",
       "      <td>0.0</td>\n",
       "      <td>0</td>\n",
       "      <td>1</td>\n",
       "      <td>2727.00</td>\n",
       "      <td>0</td>\n",
       "      <td>0</td>\n",
       "      <td>0</td>\n",
       "      <td>0</td>\n",
       "      <td>BOGOTA</td>\n",
       "      <td>1</td>\n",
       "    </tr>\n",
       "    <tr>\n",
       "      <th>1050727</th>\n",
       "      <td>553478</td>\n",
       "      <td>6653</td>\n",
       "      <td>CC</td>\n",
       "      <td>PARTICULAR</td>\n",
       "      <td>MASCULINO</td>\n",
       "      <td>73.0</td>\n",
       "      <td>VIUDO</td>\n",
       "      <td>SIN PROFESION</td>\n",
       "      <td>S/D</td>\n",
       "      <td>N</td>\n",
       "      <td>...</td>\n",
       "      <td>1923616.0</td>\n",
       "      <td>1</td>\n",
       "      <td>0</td>\n",
       "      <td>0.00</td>\n",
       "      <td>0</td>\n",
       "      <td>0</td>\n",
       "      <td>0</td>\n",
       "      <td>0</td>\n",
       "      <td>SUR</td>\n",
       "      <td>1</td>\n",
       "    </tr>\n",
       "    <tr>\n",
       "      <th>1050731</th>\n",
       "      <td>2782949</td>\n",
       "      <td>3901</td>\n",
       "      <td>CC</td>\n",
       "      <td>PARTICULAR</td>\n",
       "      <td>FEMENINO</td>\n",
       "      <td>43.0</td>\n",
       "      <td>UNION LIBRE</td>\n",
       "      <td>SIN PROFESION</td>\n",
       "      <td>S/D</td>\n",
       "      <td>N</td>\n",
       "      <td>...</td>\n",
       "      <td>0.0</td>\n",
       "      <td>0</td>\n",
       "      <td>2</td>\n",
       "      <td>102025.00</td>\n",
       "      <td>0</td>\n",
       "      <td>0</td>\n",
       "      <td>0</td>\n",
       "      <td>0</td>\n",
       "      <td>SUR</td>\n",
       "      <td>0</td>\n",
       "    </tr>\n",
       "    <tr>\n",
       "      <th>1050741</th>\n",
       "      <td>58778467</td>\n",
       "      <td>6080</td>\n",
       "      <td>CC</td>\n",
       "      <td>PARTICULAR</td>\n",
       "      <td>MASCULINO</td>\n",
       "      <td>41.0</td>\n",
       "      <td>CASADO</td>\n",
       "      <td>SIN PROFESION</td>\n",
       "      <td>S/D</td>\n",
       "      <td>N</td>\n",
       "      <td>...</td>\n",
       "      <td>0.0</td>\n",
       "      <td>0</td>\n",
       "      <td>1</td>\n",
       "      <td>9754.23</td>\n",
       "      <td>0</td>\n",
       "      <td>0</td>\n",
       "      <td>0</td>\n",
       "      <td>0</td>\n",
       "      <td>SANTANDER</td>\n",
       "      <td>1</td>\n",
       "    </tr>\n",
       "  </tbody>\n",
       "</table>\n",
       "<p>509297 rows × 50 columns</p>\n",
       "</div>"
      ],
      "text/plain": [
       "         ClienteID  SBAN TipoDoctoIdentificacionCD NaturalezaJuridicaDesc  \\\n",
       "1          4661392    70                        CC             PARTICULAR   \n",
       "3        112514252  6048                        CC             PARTICULAR   \n",
       "7        202348085   820                        CC             PARTICULAR   \n",
       "11       103657260  6660                        CC             PARTICULAR   \n",
       "12       111512743  3950                        CC             PARTICULAR   \n",
       "...            ...   ...                       ...                    ...   \n",
       "1050722    9082425  6017                        CC             PARTICULAR   \n",
       "1050724    9600217   230                        CC             PARTICULAR   \n",
       "1050727     553478  6653                        CC             PARTICULAR   \n",
       "1050731    2782949  3901                        CC             PARTICULAR   \n",
       "1050741   58778467  6080                        CC             PARTICULAR   \n",
       "\n",
       "          SexoDesc  Edad EstadoCivilDesc  ProfesionDesc ClienteFallecido  \\\n",
       "1        MASCULINO  36.0         SOLTERO  SIN PROFESION              S/D   \n",
       "3        MASCULINO  43.0         SOLTERO  SIN PROFESION              S/D   \n",
       "7         FEMENINO  43.0         SOLTERO    ZOOTECNISTA              S/D   \n",
       "11        FEMENINO  64.0          CASADO  SIN PROFESION              S/D   \n",
       "12       MASCULINO  30.0     UNION LIBRE  SIN PROFESION              S/D   \n",
       "...            ...   ...             ...            ...              ...   \n",
       "1050722  MASCULINO  42.0          CASADO  SIN PROFESION              S/D   \n",
       "1050724   FEMENINO  36.0        SEPARADO  SIN PROFESION              S/D   \n",
       "1050727  MASCULINO  73.0           VIUDO  SIN PROFESION              S/D   \n",
       "1050731   FEMENINO  43.0     UNION LIBRE  SIN PROFESION              S/D   \n",
       "1050741  MASCULINO  41.0          CASADO  SIN PROFESION              S/D   \n",
       "\n",
       "        indClienteEsEmpleado  ... SaldoTotalCartera NumeroOperacionesCartera  \\\n",
       "1                          N  ...               0.0                        0   \n",
       "3                          N  ...         5674272.0                        2   \n",
       "7                          N  ...               0.0                        0   \n",
       "11                         N  ...               0.0                        0   \n",
       "12                         N  ...         4999926.0                        1   \n",
       "...                      ...  ...               ...                      ...   \n",
       "1050722                    N  ...               0.0                        0   \n",
       "1050724                    N  ...               0.0                        0   \n",
       "1050727                    N  ...         1923616.0                        1   \n",
       "1050731                    N  ...               0.0                        0   \n",
       "1050741                    N  ...               0.0                        0   \n",
       "\n",
       "        NumeroProductosCaptacion  SaldoTotalCaptaciones  NumCreditosVencidos  \\\n",
       "1                              2            15068450.16                    0   \n",
       "3                              1               10135.00                    0   \n",
       "7                              1               16336.00                    0   \n",
       "11                             1             6989978.00                    0   \n",
       "12                             1                7276.00                    0   \n",
       "...                          ...                    ...                  ...   \n",
       "1050722                        1                4331.00                    0   \n",
       "1050724                        1                2727.00                    0   \n",
       "1050727                        0                   0.00                    0   \n",
       "1050731                        2              102025.00                    0   \n",
       "1050741                        1                9754.23                    0   \n",
       "\n",
       "         NumeroTCVencidas  NumOperacionesCarteraVencida  \\\n",
       "1                       0                             0   \n",
       "3                       0                             0   \n",
       "7                       0                             0   \n",
       "11                      0                             0   \n",
       "12                      0                             0   \n",
       "...                   ...                           ...   \n",
       "1050722                 0                             0   \n",
       "1050724                 0                             0   \n",
       "1050727                 0                             0   \n",
       "1050731                 0                             0   \n",
       "1050741                 0                             0   \n",
       "\n",
       "         SaldoTotalCarteraVencida   Regional  Churn  \n",
       "1                               0     BOGOTA      0  \n",
       "3                               0  SANTANDER      0  \n",
       "7                               0     BOGOTA      0  \n",
       "11                              0        SUR      0  \n",
       "12                              0        SUR      1  \n",
       "...                           ...        ...    ...  \n",
       "1050722                         0  SANTANDER      1  \n",
       "1050724                         0     BOGOTA      1  \n",
       "1050727                         0        SUR      1  \n",
       "1050731                         0        SUR      0  \n",
       "1050741                         0  SANTANDER      1  \n",
       "\n",
       "[509297 rows x 50 columns]"
      ]
     },
     "execution_count": 35,
     "metadata": {},
     "output_type": "execute_result"
    }
   ],
   "source": [
    "datos_4"
   ]
  },
  {
   "cell_type": "code",
   "execution_count": 36,
   "id": "82b9e032",
   "metadata": {},
   "outputs": [
    {
     "data": {
      "text/plain": [
       "ClienteID                            int64\n",
       "SBAN                                 int64\n",
       "TipoDoctoIdentificacionCD           object\n",
       "NaturalezaJuridicaDesc              object\n",
       "SexoDesc                            object\n",
       "Edad                               float64\n",
       "EstadoCivilDesc                     object\n",
       "ProfesionDesc                       object\n",
       "ClienteFallecido                    object\n",
       "indClienteEsEmpleado                object\n",
       "FechaVinculacionBAC                 object\n",
       "EstadoClienteDesc                   object\n",
       "TipoClienteDesc                     object\n",
       "ValorActivos                       float64\n",
       "ValorEgresos                       float64\n",
       "ValorIngresos                      float64\n",
       "ValorOtrosingresos                 float64\n",
       "ValorPatrimonio                    float64\n",
       "TotalPasivos                       float64\n",
       "NumCreditos                          int64\n",
       "SaldoCreditos                      float64\n",
       "SaldoCarteraVencida                  int64\n",
       "NumeroTC                             int64\n",
       "SaldoTC                            float64\n",
       "SaldoTCVencido                     float64\n",
       "NumeroSobregisrosUso                 int64\n",
       "SaldoSobregirosUso                 float64\n",
       "SaldoSobregirosVencidos            float64\n",
       "NumeroCuentasAhorroActivas           int64\n",
       "SaldoCuentasAhorroActivas          float64\n",
       "NumeroCuentasAhorroInactivas         int64\n",
       "SaldoCuentasAhorroInactivas        float64\n",
       "NumeroCuentasCorrienteActivas        int64\n",
       "SaldoCuentasCorrienteActivas       float64\n",
       "NumeroCuentascorrienteInactivas      int64\n",
       "SaldoCuentascorrienteInactivas     float64\n",
       "NumeroCDT                            int64\n",
       "SaldoCDT                           float64\n",
       "NumeroCDAT                           int64\n",
       "SaldoCDAT                          float64\n",
       "SaldoTotalCartera                  float64\n",
       "NumeroOperacionesCartera             int64\n",
       "NumeroProductosCaptacion             int64\n",
       "SaldoTotalCaptaciones              float64\n",
       "NumCreditosVencidos                  int64\n",
       "NumeroTCVencidas                     int64\n",
       "NumOperacionesCarteraVencida         int64\n",
       "SaldoTotalCarteraVencida             int64\n",
       "Regional                            object\n",
       "Churn                                int64\n",
       "dtype: object"
      ]
     },
     "execution_count": 36,
     "metadata": {},
     "output_type": "execute_result"
    }
   ],
   "source": [
    "datos_4.dtypes"
   ]
  },
  {
   "cell_type": "code",
   "execution_count": 37,
   "id": "6308b033",
   "metadata": {},
   "outputs": [],
   "source": [
    "datos_4['FechaVinculacionBAC']=datos_4['FechaVinculacionBAC'].apply(pd.to_datetime)"
   ]
  },
  {
   "cell_type": "code",
   "execution_count": 38,
   "id": "c76b6ceb",
   "metadata": {},
   "outputs": [
    {
     "data": {
      "text/plain": [
       "ClienteID                                   int64\n",
       "SBAN                                        int64\n",
       "TipoDoctoIdentificacionCD                  object\n",
       "NaturalezaJuridicaDesc                     object\n",
       "SexoDesc                                   object\n",
       "Edad                                      float64\n",
       "EstadoCivilDesc                            object\n",
       "ProfesionDesc                              object\n",
       "ClienteFallecido                           object\n",
       "indClienteEsEmpleado                       object\n",
       "FechaVinculacionBAC                datetime64[ns]\n",
       "EstadoClienteDesc                          object\n",
       "TipoClienteDesc                            object\n",
       "ValorActivos                              float64\n",
       "ValorEgresos                              float64\n",
       "ValorIngresos                             float64\n",
       "ValorOtrosingresos                        float64\n",
       "ValorPatrimonio                           float64\n",
       "TotalPasivos                              float64\n",
       "NumCreditos                                 int64\n",
       "SaldoCreditos                             float64\n",
       "SaldoCarteraVencida                         int64\n",
       "NumeroTC                                    int64\n",
       "SaldoTC                                   float64\n",
       "SaldoTCVencido                            float64\n",
       "NumeroSobregisrosUso                        int64\n",
       "SaldoSobregirosUso                        float64\n",
       "SaldoSobregirosVencidos                   float64\n",
       "NumeroCuentasAhorroActivas                  int64\n",
       "SaldoCuentasAhorroActivas                 float64\n",
       "NumeroCuentasAhorroInactivas                int64\n",
       "SaldoCuentasAhorroInactivas               float64\n",
       "NumeroCuentasCorrienteActivas               int64\n",
       "SaldoCuentasCorrienteActivas              float64\n",
       "NumeroCuentascorrienteInactivas             int64\n",
       "SaldoCuentascorrienteInactivas            float64\n",
       "NumeroCDT                                   int64\n",
       "SaldoCDT                                  float64\n",
       "NumeroCDAT                                  int64\n",
       "SaldoCDAT                                 float64\n",
       "SaldoTotalCartera                         float64\n",
       "NumeroOperacionesCartera                    int64\n",
       "NumeroProductosCaptacion                    int64\n",
       "SaldoTotalCaptaciones                     float64\n",
       "NumCreditosVencidos                         int64\n",
       "NumeroTCVencidas                            int64\n",
       "NumOperacionesCarteraVencida                int64\n",
       "SaldoTotalCarteraVencida                    int64\n",
       "Regional                                   object\n",
       "Churn                                       int64\n",
       "dtype: object"
      ]
     },
     "execution_count": 38,
     "metadata": {},
     "output_type": "execute_result"
    }
   ],
   "source": [
    "datos_4.dtypes"
   ]
  },
  {
   "cell_type": "code",
   "execution_count": 39,
   "id": "23a9ca17",
   "metadata": {},
   "outputs": [
    {
     "name": "stdout",
     "output_type": "stream",
     "text": [
      "Valores posibles de la variable TipoDoctoIdentificacionCD\n",
      "['CC']\n",
      "\n",
      "Valores posibles de la variable NaturalezaJuridicaDesc\n",
      "['PARTICULAR']\n",
      "Valores posibles de la variable SexoDesc\n",
      "['MASCULINO' 'FEMENINO']\n",
      "\n",
      "Valores posibles de la variable EstadoCivilDesc\n",
      "['SOLTERO' 'CASADO' 'UNION LIBRE' 'SEPARADO' 'VIUDO' 'DIVORCIADO'\n",
      " 'NO REPORTA']\n",
      "\n",
      "Valores posibles de la variable ProfesionDesc\n",
      "['SIN PROFESION' 'ZOOTECNISTA' 'AGRICULTOR' 'DOCENTE' 'AGRONOMO'\n",
      " 'GANADERO' 'TECNICO PROFESIONAL - AGRONOMIA, VETERINARIA Y AFINES'\n",
      " 'ADMINISTRADOR DEL MEDIO AMBIENTE' 'ADMINISTRADOR AGROPECUARIO'\n",
      " 'ADMINISTRADOR DE COMERCIO EXTERIOR'\n",
      " 'TECNICO PROFESIONAL - ECONOMIA, ADMINISTRACION Y CONTADURIA'\n",
      " 'ENFERMERIA' 'NO REPORTA' 'ADMINISTRADOR DE  EMPRESAS' 'INGENIERO CIVIL'\n",
      " 'ABOGADO' 'MEDICO VETERINARIO'\n",
      " 'TECNOLOGO - INGENIERIA, ARQUITECTURA, URBANISMO Y AFINES'\n",
      " 'TECNOLOGO - AGRONOMIA, VETERINARIA Y AFINES' 'INGENIERO AGRONOMICO'\n",
      " 'CONTADOR' 'ADMINISTRADOR PUBLICO' 'IDIOMAS' 'INGENIERO AGROAMBIENTAL'\n",
      " 'ARQUITECTO' 'INGENIERO DE SISTEMAS' 'ADMINISTRADOR COMERCIAL'\n",
      " 'INGENIERO MECANICO' 'ODONTOLOGO' 'PSICOLOGO' 'INGENIERO AMBIENTAL'\n",
      " 'FISIOTERAPISTA'\n",
      " 'TECNOLOGO - ECONOMIA, ADMINISTRACION, CONTADURIA Y AFINES'\n",
      " 'TECNICO PROFESIONAL - CIENCIAS DE LA SALUD' 'FARMACIA' 'LICENCIADO'\n",
      " 'GASTRONOMO Y COCINA PROFESIONAL' 'PILOTO CIVIL' 'INGENIERO AGROFORESTAL'\n",
      " 'COMUNICACION SOCIAL' 'INGENIERO ELECTRICO' 'ADMINISTRADOR INFORMATICO'\n",
      " 'QUIMICO' 'SALUD OCUPACIONAL' 'ECONOMISTA' 'ADMINISTRADOR LOGISTICO'\n",
      " 'SECRETARIA' 'PRE ESCOLAR' 'ADMINISTRADOR HOTELERO'\n",
      " 'TECNICO PROFESIONAL - INGENIERIA, ARQUITECTURA Y URBANISMO'\n",
      " 'TECNOLOGO - BELLAS ARTES' 'FONOAUDIOLOGO' 'INGENIERO AGRICOLA'\n",
      " 'DISENO INDUSTRIAL' 'ECOLOGO' 'TECNOLOGO - CIENCIAS DE LA SALUD'\n",
      " 'PUBLICISTA' 'INGENIERO ELECTRONICO'\n",
      " 'ADMINISTRADOR BANCARIO Y FINANCIERO' 'MERCADEO' 'DISENO GRAFICO'\n",
      " 'TECNICO PROFESIONAL - CIENCIAS SOCIALES, DERECHO Y POLITICA'\n",
      " 'INGENIERO INDUSTRIAL' 'INGENIERO FINANCIERO'\n",
      " 'TECNICO PROFESIONAL - CIENCIAS DE LA EDUCACION' 'TRABAJO SOCIAL'\n",
      " 'INGENIERO' 'MUSICA INSTRUMENTAL' 'DISENO DE MODAS' 'AGROLOGO'\n",
      " 'FOTOGRAFO' 'MEDICO DERMATOLOGO' 'ADMINISTRADOR DE OBRAS CIVILES'\n",
      " 'MEDICO GENERAL' 'BIOLOGO' 'FINANZAS' 'TEOLOGO' 'PERIODISTA'\n",
      " 'COMERCIO EXTERIOR' 'INGENIERO QUIMICO' 'INGENIERO DE ALIMENTOS'\n",
      " 'FILOSOFO' 'TELECOMUNICACIONES' 'TECNICO PROFESIONAL - BELLAS ARTES'\n",
      " 'GEOLOGO' 'CIENCIAS SOCIALES'\n",
      " 'TECNOLOGO - HUMANIDADES Y CIENCIAS RELIGIOSAS'\n",
      " 'INSTRUMENTACION QUIRURGICA' 'SOCIOLOGO'\n",
      " 'INGENIERO DE PRODUCCION AGRICOLA' 'GEOGRAFO' 'MILITAR'\n",
      " 'TECNOLOGO - MATEMATICAS Y CIENCIAS NATURALES' 'ANTROPOLOGO'\n",
      " 'ADMINISTRADOR EN SALUD' 'BELLAS ARTES' 'MEDICO OFTALMOLOGO'\n",
      " 'CRIMINALISTICA' 'HOTELERIA Y TURISMO'\n",
      " 'TECNOLOGO - CIENCIAS SOCIALES, DERECHO Y POLITICA' 'COSMETOLOGO'\n",
      " 'DEPORTE Y ACTIVIDAD FISICA' 'MATEMATICO' 'CINE Y TELEVISION'\n",
      " 'MICROBIOLOGIA' 'ESTADISTICO'\n",
      " 'TECNICO PROFESIONAL - MATEMATICAS Y CIENCIAS NATURALES' 'CONSTRUCCION'\n",
      " 'MEDICO PEDIATRA' 'TECNOLOGO - CIENCIAS DE LA EDUCACION' 'CIENCIAS'\n",
      " 'LENGUAS CLASICAS' 'AGROZOOTECNIO' 'NEGOCIOS INTERNACIONALES'\n",
      " 'BACTERIOLOGO' 'INGENIERO DEL MEDIO AMBIENTE' 'TERAPIA FISICA'\n",
      " 'LITERATURA' 'DECORADOR DE INTERIORES' 'INGENIERO COMERCIAL'\n",
      " 'CIENCIAS MILITARES' 'RELACIONES PUBLICAS E INSTITUCIONALES'\n",
      " 'CIENCIAS POLITICAS' 'NUTRICION Y DIETETICA' 'TERAPIA OCUPACIONAL'\n",
      " 'GERONTOLOGO' 'INGENIERO DE ACUICULTURA' 'CIENCIAS DEL DEPORTE' 'FISICO'\n",
      " 'INGENIERO ADMINISTRATIVO' 'INGENIERO CATASTRAL'\n",
      " 'MEDICO CIRUJANO PLASTICO' 'TERAPIA RESPIRATORIA' 'MEDICO OPTOMETRA'\n",
      " 'RECREACIONISTA' 'MEDICO CARDIOLOGO' 'BIOINGENIERO' 'BIBLIOTECOLOGO'\n",
      " 'MEDICO LEGAL' 'LENGUAS MODERNAS' 'MEDICO GINECOLOGO' 'HISTORIADOR'\n",
      " 'MEDICO UROLOGO' 'TRADUCCION SIMULTANEA' 'MEDICO NEUROLOGO'\n",
      " 'RELACIONES INTERNACIONALES' 'ADMINISTRADOR DEPORTIVO' 'MEDICO RADIOLOGO'\n",
      " 'MEDICO OTORRINORALINGOLOGO' 'MEDICO BACTERIOLOGO' 'INGENIERO PESQUERO']\n",
      "\n",
      "Valores posibles de la variable ClienteFallecido\n",
      "['S/D' 'Fallecido']\n",
      "\n",
      "Valores posibles de la variable EstadoClienteDesc\n",
      "['INACTIVO' 'ACTIVO']\n",
      "\n",
      "Valores posibles de la variable TipoClienteDesc\n",
      "['Cliente Comercialmente Gestionable' 'Cliente Convenio']\n",
      "\n",
      "Valores posibles de la variable Regional\n",
      "['BOGOTA' 'SANTANDER' 'SUR' 'CAFETERA']\n",
      "\n",
      "Valores posibles de la variable indClienteEsEmpleado\n",
      "['N' 'S']\n",
      "\n"
     ]
    }
   ],
   "source": [
    "#Variables categóricas\n",
    "print(\"Valores posibles de la variable TipoDoctoIdentificacionCD\")\n",
    "print(datos_4['TipoDoctoIdentificacionCD'].unique())\n",
    "print()\n",
    "print(\"Valores posibles de la variable NaturalezaJuridicaDesc\")\n",
    "print(datos_4['NaturalezaJuridicaDesc'].unique())\n",
    "print\n",
    "print(\"Valores posibles de la variable SexoDesc\")\n",
    "print(datos_4['SexoDesc'].unique())\n",
    "print()\n",
    "print(\"Valores posibles de la variable EstadoCivilDesc\")\n",
    "print(datos_4['EstadoCivilDesc'].unique())\n",
    "print()\n",
    "print(\"Valores posibles de la variable ProfesionDesc\")\n",
    "print(datos_4['ProfesionDesc'].unique())\n",
    "print()\n",
    "print(\"Valores posibles de la variable ClienteFallecido\")\n",
    "print(datos_4['ClienteFallecido'].unique())\n",
    "print()\n",
    "print(\"Valores posibles de la variable EstadoClienteDesc\")\n",
    "print(datos_4['EstadoClienteDesc'].unique())\n",
    "print()\n",
    "print(\"Valores posibles de la variable TipoClienteDesc\")\n",
    "print(datos_4['TipoClienteDesc'].unique())\n",
    "print()\n",
    "print(\"Valores posibles de la variable Regional\")\n",
    "print(datos_4['Regional'].unique())\n",
    "print()\n",
    "print(\"Valores posibles de la variable indClienteEsEmpleado\")\n",
    "print(datos_4['indClienteEsEmpleado'].unique())\n",
    "print()"
   ]
  },
  {
   "cell_type": "code",
   "execution_count": 40,
   "id": "21b012b9",
   "metadata": {},
   "outputs": [
    {
     "name": "stdout",
     "output_type": "stream",
     "text": [
      "El número de variables categóricas es: 10\n",
      "Index(['TipoDoctoIdentificacionCD', 'NaturalezaJuridicaDesc', 'SexoDesc',\n",
      "       'EstadoCivilDesc', 'ProfesionDesc', 'ClienteFallecido',\n",
      "       'indClienteEsEmpleado', 'EstadoClienteDesc', 'TipoClienteDesc',\n",
      "       'Regional'],\n",
      "      dtype='object')\n"
     ]
    }
   ],
   "source": [
    "#Se separan las variables categóricas ya con los datos corregidos\n",
    "Categorical=datos_4.select_dtypes(include=['object'])\n",
    "rows,col=(Categorical.shape)\n",
    "print(\"El número de variables categóricas es:\",col)\n",
    "print(Categorical.columns)"
   ]
  },
  {
   "cell_type": "code",
   "execution_count": 41,
   "id": "7c27f1d6",
   "metadata": {
    "scrolled": true
   },
   "outputs": [
    {
     "data": {
      "text/html": [
       "<div>\n",
       "<style scoped>\n",
       "    .dataframe tbody tr th:only-of-type {\n",
       "        vertical-align: middle;\n",
       "    }\n",
       "\n",
       "    .dataframe tbody tr th {\n",
       "        vertical-align: top;\n",
       "    }\n",
       "\n",
       "    .dataframe thead th {\n",
       "        text-align: right;\n",
       "    }\n",
       "</style>\n",
       "<table border=\"1\" class=\"dataframe\">\n",
       "  <thead>\n",
       "    <tr style=\"text-align: right;\">\n",
       "      <th></th>\n",
       "      <th>SexoDesc</th>\n",
       "      <th>Edad</th>\n",
       "      <th>EstadoCivilDesc</th>\n",
       "      <th>ProfesionDesc</th>\n",
       "      <th>indClienteEsEmpleado</th>\n",
       "      <th>TipoClienteDesc</th>\n",
       "      <th>ValorActivos</th>\n",
       "      <th>ValorEgresos</th>\n",
       "      <th>ValorIngresos</th>\n",
       "      <th>ValorOtrosingresos</th>\n",
       "      <th>...</th>\n",
       "      <th>SaldoTotalCartera</th>\n",
       "      <th>NumeroOperacionesCartera</th>\n",
       "      <th>NumeroProductosCaptacion</th>\n",
       "      <th>SaldoTotalCaptaciones</th>\n",
       "      <th>NumCreditosVencidos</th>\n",
       "      <th>NumeroTCVencidas</th>\n",
       "      <th>NumOperacionesCarteraVencida</th>\n",
       "      <th>SaldoTotalCarteraVencida</th>\n",
       "      <th>Regional</th>\n",
       "      <th>Churn</th>\n",
       "    </tr>\n",
       "  </thead>\n",
       "  <tbody>\n",
       "    <tr>\n",
       "      <th>1</th>\n",
       "      <td>MASCULINO</td>\n",
       "      <td>36.0</td>\n",
       "      <td>SOLTERO</td>\n",
       "      <td>SIN PROFESION</td>\n",
       "      <td>N</td>\n",
       "      <td>Cliente Comercialmente Gestionable</td>\n",
       "      <td>25000000.0</td>\n",
       "      <td>140000.0</td>\n",
       "      <td>520000.0</td>\n",
       "      <td>0.0</td>\n",
       "      <td>...</td>\n",
       "      <td>0.0</td>\n",
       "      <td>0</td>\n",
       "      <td>2</td>\n",
       "      <td>15068450.16</td>\n",
       "      <td>0</td>\n",
       "      <td>0</td>\n",
       "      <td>0</td>\n",
       "      <td>0</td>\n",
       "      <td>BOGOTA</td>\n",
       "      <td>0</td>\n",
       "    </tr>\n",
       "    <tr>\n",
       "      <th>3</th>\n",
       "      <td>MASCULINO</td>\n",
       "      <td>43.0</td>\n",
       "      <td>SOLTERO</td>\n",
       "      <td>SIN PROFESION</td>\n",
       "      <td>N</td>\n",
       "      <td>Cliente Comercialmente Gestionable</td>\n",
       "      <td>28000000.0</td>\n",
       "      <td>500000.0</td>\n",
       "      <td>1800000.0</td>\n",
       "      <td>0.0</td>\n",
       "      <td>...</td>\n",
       "      <td>5674272.0</td>\n",
       "      <td>2</td>\n",
       "      <td>1</td>\n",
       "      <td>10135.00</td>\n",
       "      <td>0</td>\n",
       "      <td>0</td>\n",
       "      <td>0</td>\n",
       "      <td>0</td>\n",
       "      <td>SANTANDER</td>\n",
       "      <td>0</td>\n",
       "    </tr>\n",
       "    <tr>\n",
       "      <th>7</th>\n",
       "      <td>FEMENINO</td>\n",
       "      <td>43.0</td>\n",
       "      <td>SOLTERO</td>\n",
       "      <td>ZOOTECNISTA</td>\n",
       "      <td>N</td>\n",
       "      <td>Cliente Comercialmente Gestionable</td>\n",
       "      <td>110000000.0</td>\n",
       "      <td>1200000.0</td>\n",
       "      <td>3000000.0</td>\n",
       "      <td>0.0</td>\n",
       "      <td>...</td>\n",
       "      <td>0.0</td>\n",
       "      <td>0</td>\n",
       "      <td>1</td>\n",
       "      <td>16336.00</td>\n",
       "      <td>0</td>\n",
       "      <td>0</td>\n",
       "      <td>0</td>\n",
       "      <td>0</td>\n",
       "      <td>BOGOTA</td>\n",
       "      <td>0</td>\n",
       "    </tr>\n",
       "    <tr>\n",
       "      <th>11</th>\n",
       "      <td>FEMENINO</td>\n",
       "      <td>64.0</td>\n",
       "      <td>CASADO</td>\n",
       "      <td>SIN PROFESION</td>\n",
       "      <td>N</td>\n",
       "      <td>Cliente Comercialmente Gestionable</td>\n",
       "      <td>100000000.0</td>\n",
       "      <td>600000.0</td>\n",
       "      <td>900000.0</td>\n",
       "      <td>0.0</td>\n",
       "      <td>...</td>\n",
       "      <td>0.0</td>\n",
       "      <td>0</td>\n",
       "      <td>1</td>\n",
       "      <td>6989978.00</td>\n",
       "      <td>0</td>\n",
       "      <td>0</td>\n",
       "      <td>0</td>\n",
       "      <td>0</td>\n",
       "      <td>SUR</td>\n",
       "      <td>0</td>\n",
       "    </tr>\n",
       "    <tr>\n",
       "      <th>12</th>\n",
       "      <td>MASCULINO</td>\n",
       "      <td>30.0</td>\n",
       "      <td>UNION LIBRE</td>\n",
       "      <td>SIN PROFESION</td>\n",
       "      <td>N</td>\n",
       "      <td>Cliente Comercialmente Gestionable</td>\n",
       "      <td>39645000.0</td>\n",
       "      <td>474000.0</td>\n",
       "      <td>2388000.0</td>\n",
       "      <td>0.0</td>\n",
       "      <td>...</td>\n",
       "      <td>4999926.0</td>\n",
       "      <td>1</td>\n",
       "      <td>1</td>\n",
       "      <td>7276.00</td>\n",
       "      <td>0</td>\n",
       "      <td>0</td>\n",
       "      <td>0</td>\n",
       "      <td>0</td>\n",
       "      <td>SUR</td>\n",
       "      <td>1</td>\n",
       "    </tr>\n",
       "    <tr>\n",
       "      <th>...</th>\n",
       "      <td>...</td>\n",
       "      <td>...</td>\n",
       "      <td>...</td>\n",
       "      <td>...</td>\n",
       "      <td>...</td>\n",
       "      <td>...</td>\n",
       "      <td>...</td>\n",
       "      <td>...</td>\n",
       "      <td>...</td>\n",
       "      <td>...</td>\n",
       "      <td>...</td>\n",
       "      <td>...</td>\n",
       "      <td>...</td>\n",
       "      <td>...</td>\n",
       "      <td>...</td>\n",
       "      <td>...</td>\n",
       "      <td>...</td>\n",
       "      <td>...</td>\n",
       "      <td>...</td>\n",
       "      <td>...</td>\n",
       "      <td>...</td>\n",
       "    </tr>\n",
       "    <tr>\n",
       "      <th>1050722</th>\n",
       "      <td>MASCULINO</td>\n",
       "      <td>42.0</td>\n",
       "      <td>CASADO</td>\n",
       "      <td>SIN PROFESION</td>\n",
       "      <td>N</td>\n",
       "      <td>Cliente Comercialmente Gestionable</td>\n",
       "      <td>25000000.0</td>\n",
       "      <td>800000.0</td>\n",
       "      <td>2500000.0</td>\n",
       "      <td>0.0</td>\n",
       "      <td>...</td>\n",
       "      <td>0.0</td>\n",
       "      <td>0</td>\n",
       "      <td>1</td>\n",
       "      <td>4331.00</td>\n",
       "      <td>0</td>\n",
       "      <td>0</td>\n",
       "      <td>0</td>\n",
       "      <td>0</td>\n",
       "      <td>SANTANDER</td>\n",
       "      <td>1</td>\n",
       "    </tr>\n",
       "    <tr>\n",
       "      <th>1050724</th>\n",
       "      <td>FEMENINO</td>\n",
       "      <td>36.0</td>\n",
       "      <td>SEPARADO</td>\n",
       "      <td>SIN PROFESION</td>\n",
       "      <td>N</td>\n",
       "      <td>Cliente Comercialmente Gestionable</td>\n",
       "      <td>50000000.0</td>\n",
       "      <td>1500000.0</td>\n",
       "      <td>3200000.0</td>\n",
       "      <td>0.0</td>\n",
       "      <td>...</td>\n",
       "      <td>0.0</td>\n",
       "      <td>0</td>\n",
       "      <td>1</td>\n",
       "      <td>2727.00</td>\n",
       "      <td>0</td>\n",
       "      <td>0</td>\n",
       "      <td>0</td>\n",
       "      <td>0</td>\n",
       "      <td>BOGOTA</td>\n",
       "      <td>1</td>\n",
       "    </tr>\n",
       "    <tr>\n",
       "      <th>1050727</th>\n",
       "      <td>MASCULINO</td>\n",
       "      <td>73.0</td>\n",
       "      <td>VIUDO</td>\n",
       "      <td>SIN PROFESION</td>\n",
       "      <td>N</td>\n",
       "      <td>Cliente Comercialmente Gestionable</td>\n",
       "      <td>61000000.0</td>\n",
       "      <td>800000.0</td>\n",
       "      <td>2800000.0</td>\n",
       "      <td>0.0</td>\n",
       "      <td>...</td>\n",
       "      <td>1923616.0</td>\n",
       "      <td>1</td>\n",
       "      <td>0</td>\n",
       "      <td>0.00</td>\n",
       "      <td>0</td>\n",
       "      <td>0</td>\n",
       "      <td>0</td>\n",
       "      <td>0</td>\n",
       "      <td>SUR</td>\n",
       "      <td>1</td>\n",
       "    </tr>\n",
       "    <tr>\n",
       "      <th>1050731</th>\n",
       "      <td>FEMENINO</td>\n",
       "      <td>43.0</td>\n",
       "      <td>UNION LIBRE</td>\n",
       "      <td>SIN PROFESION</td>\n",
       "      <td>N</td>\n",
       "      <td>Cliente Convenio</td>\n",
       "      <td>35000000.0</td>\n",
       "      <td>580000.0</td>\n",
       "      <td>1500000.0</td>\n",
       "      <td>0.0</td>\n",
       "      <td>...</td>\n",
       "      <td>0.0</td>\n",
       "      <td>0</td>\n",
       "      <td>2</td>\n",
       "      <td>102025.00</td>\n",
       "      <td>0</td>\n",
       "      <td>0</td>\n",
       "      <td>0</td>\n",
       "      <td>0</td>\n",
       "      <td>SUR</td>\n",
       "      <td>0</td>\n",
       "    </tr>\n",
       "    <tr>\n",
       "      <th>1050741</th>\n",
       "      <td>MASCULINO</td>\n",
       "      <td>41.0</td>\n",
       "      <td>CASADO</td>\n",
       "      <td>SIN PROFESION</td>\n",
       "      <td>N</td>\n",
       "      <td>Cliente Comercialmente Gestionable</td>\n",
       "      <td>10000000.0</td>\n",
       "      <td>550000.0</td>\n",
       "      <td>1800000.0</td>\n",
       "      <td>0.0</td>\n",
       "      <td>...</td>\n",
       "      <td>0.0</td>\n",
       "      <td>0</td>\n",
       "      <td>1</td>\n",
       "      <td>9754.23</td>\n",
       "      <td>0</td>\n",
       "      <td>0</td>\n",
       "      <td>0</td>\n",
       "      <td>0</td>\n",
       "      <td>SANTANDER</td>\n",
       "      <td>1</td>\n",
       "    </tr>\n",
       "  </tbody>\n",
       "</table>\n",
       "<p>509297 rows × 43 columns</p>\n",
       "</div>"
      ],
      "text/plain": [
       "          SexoDesc  Edad EstadoCivilDesc  ProfesionDesc indClienteEsEmpleado  \\\n",
       "1        MASCULINO  36.0         SOLTERO  SIN PROFESION                    N   \n",
       "3        MASCULINO  43.0         SOLTERO  SIN PROFESION                    N   \n",
       "7         FEMENINO  43.0         SOLTERO    ZOOTECNISTA                    N   \n",
       "11        FEMENINO  64.0          CASADO  SIN PROFESION                    N   \n",
       "12       MASCULINO  30.0     UNION LIBRE  SIN PROFESION                    N   \n",
       "...            ...   ...             ...            ...                  ...   \n",
       "1050722  MASCULINO  42.0          CASADO  SIN PROFESION                    N   \n",
       "1050724   FEMENINO  36.0        SEPARADO  SIN PROFESION                    N   \n",
       "1050727  MASCULINO  73.0           VIUDO  SIN PROFESION                    N   \n",
       "1050731   FEMENINO  43.0     UNION LIBRE  SIN PROFESION                    N   \n",
       "1050741  MASCULINO  41.0          CASADO  SIN PROFESION                    N   \n",
       "\n",
       "                            TipoClienteDesc  ValorActivos  ValorEgresos  \\\n",
       "1        Cliente Comercialmente Gestionable    25000000.0      140000.0   \n",
       "3        Cliente Comercialmente Gestionable    28000000.0      500000.0   \n",
       "7        Cliente Comercialmente Gestionable   110000000.0     1200000.0   \n",
       "11       Cliente Comercialmente Gestionable   100000000.0      600000.0   \n",
       "12       Cliente Comercialmente Gestionable    39645000.0      474000.0   \n",
       "...                                     ...           ...           ...   \n",
       "1050722  Cliente Comercialmente Gestionable    25000000.0      800000.0   \n",
       "1050724  Cliente Comercialmente Gestionable    50000000.0     1500000.0   \n",
       "1050727  Cliente Comercialmente Gestionable    61000000.0      800000.0   \n",
       "1050731                    Cliente Convenio    35000000.0      580000.0   \n",
       "1050741  Cliente Comercialmente Gestionable    10000000.0      550000.0   \n",
       "\n",
       "         ValorIngresos  ValorOtrosingresos  ...  SaldoTotalCartera  \\\n",
       "1             520000.0                 0.0  ...                0.0   \n",
       "3            1800000.0                 0.0  ...          5674272.0   \n",
       "7            3000000.0                 0.0  ...                0.0   \n",
       "11            900000.0                 0.0  ...                0.0   \n",
       "12           2388000.0                 0.0  ...          4999926.0   \n",
       "...                ...                 ...  ...                ...   \n",
       "1050722      2500000.0                 0.0  ...                0.0   \n",
       "1050724      3200000.0                 0.0  ...                0.0   \n",
       "1050727      2800000.0                 0.0  ...          1923616.0   \n",
       "1050731      1500000.0                 0.0  ...                0.0   \n",
       "1050741      1800000.0                 0.0  ...                0.0   \n",
       "\n",
       "         NumeroOperacionesCartera  NumeroProductosCaptacion  \\\n",
       "1                               0                         2   \n",
       "3                               2                         1   \n",
       "7                               0                         1   \n",
       "11                              0                         1   \n",
       "12                              1                         1   \n",
       "...                           ...                       ...   \n",
       "1050722                         0                         1   \n",
       "1050724                         0                         1   \n",
       "1050727                         1                         0   \n",
       "1050731                         0                         2   \n",
       "1050741                         0                         1   \n",
       "\n",
       "         SaldoTotalCaptaciones  NumCreditosVencidos  NumeroTCVencidas  \\\n",
       "1                  15068450.16                    0                 0   \n",
       "3                     10135.00                    0                 0   \n",
       "7                     16336.00                    0                 0   \n",
       "11                  6989978.00                    0                 0   \n",
       "12                     7276.00                    0                 0   \n",
       "...                        ...                  ...               ...   \n",
       "1050722                4331.00                    0                 0   \n",
       "1050724                2727.00                    0                 0   \n",
       "1050727                   0.00                    0                 0   \n",
       "1050731              102025.00                    0                 0   \n",
       "1050741                9754.23                    0                 0   \n",
       "\n",
       "         NumOperacionesCarteraVencida  SaldoTotalCarteraVencida   Regional  \\\n",
       "1                                   0                         0     BOGOTA   \n",
       "3                                   0                         0  SANTANDER   \n",
       "7                                   0                         0     BOGOTA   \n",
       "11                                  0                         0        SUR   \n",
       "12                                  0                         0        SUR   \n",
       "...                               ...                       ...        ...   \n",
       "1050722                             0                         0  SANTANDER   \n",
       "1050724                             0                         0     BOGOTA   \n",
       "1050727                             0                         0        SUR   \n",
       "1050731                             0                         0        SUR   \n",
       "1050741                             0                         0  SANTANDER   \n",
       "\n",
       "         Churn  \n",
       "1            0  \n",
       "3            0  \n",
       "7            0  \n",
       "11           0  \n",
       "12           1  \n",
       "...        ...  \n",
       "1050722      1  \n",
       "1050724      1  \n",
       "1050727      1  \n",
       "1050731      0  \n",
       "1050741      1  \n",
       "\n",
       "[509297 rows x 43 columns]"
      ]
     },
     "execution_count": 41,
     "metadata": {},
     "output_type": "execute_result"
    }
   ],
   "source": [
    "df4=datos_4.drop(['ClienteID','SBAN','TipoDoctoIdentificacionCD','NaturalezaJuridicaDesc','EstadoClienteDesc','ClienteFallecido','FechaVinculacionBAC'], axis=1)\n",
    "df4"
   ]
  },
  {
   "cell_type": "code",
   "execution_count": 42,
   "id": "d9d22883",
   "metadata": {},
   "outputs": [],
   "source": [
    "#Se reemplazan las variables categóricas por valores númericos\n",
    "df5=df4\n",
    "df5['SexoDesc']=df5['SexoDesc'].map({'MASCULINO':0, 'FEMENINO':1})\n",
    "\n",
    "df5['EstadoCivilDesc']=df5['EstadoCivilDesc'].map({'SOLTERO':0, 'CASADO':1, 'UNION LIBRE':2, 'SEPARADO':3, 'VIUDO':5, 'DIVORCIADO':6,'NO REPORTA':7})\n",
    "\n",
    "df5['ProfesionDesc']=df5['ProfesionDesc'].map({'SIN PROFESION':0, 'ZOOTECNISTA':1, 'AGRICULTOR':2, 'DOCENTE':3, 'AGRONOMO':4,\n",
    " 'GANADERO':5, 'TECNICO PROFESIONAL - AGRONOMIA, VETERINARIA Y AFINES':6,\n",
    " 'ADMINISTRADOR DEL MEDIO AMBIENTE':7, 'ADMINISTRADOR AGROPECUARIO':8,\n",
    " 'ADMINISTRADOR DE COMERCIO EXTERIOR':9,\n",
    " 'TECNICO PROFESIONAL - ECONOMIA, ADMINISTRACION Y CONTADURIA':10,\n",
    " 'ENFERMERIA':151,'NO REPORTA':149, 'ADMINISTRADOR DE  EMPRESAS':11, 'INGENIERO CIVIL':12,\n",
    " 'ABOGADO':13, 'MEDICO VETERINARIO':14,\n",
    " 'TECNOLOGO - INGENIERIA, ARQUITECTURA, URBANISMO Y AFINES':15,\n",
    " 'TECNOLOGO - AGRONOMIA, VETERINARIA Y AFINES':16, 'INGENIERO AGRONOMICO':17,\n",
    " 'CONTADOR':18, 'ADMINISTRADOR PUBLICO':19, 'IDIOMAS':20, 'INGENIERO AGROAMBIENTAL':21,\n",
    " 'ARQUITECTO':22, 'INGENIERO DE SISTEMAS':23, 'ADMINISTRADOR COMERCIAL':24,\n",
    " 'INGENIERO MECANICO':25, 'ODONTOLOGO':26, 'PSICOLOGO':27, 'INGENIERO AMBIENTAL':28,\n",
    " 'FISIOTERAPISTA':29,\n",
    " 'TECNOLOGO - ECONOMIA, ADMINISTRACION, CONTADURIA Y AFINES':30,\n",
    " 'TECNICO PROFESIONAL - CIENCIAS DE LA SALUD':31, 'FARMACIA':32, 'LICENCIADO':33,\n",
    " 'GASTRONOMO Y COCINA PROFESIONAL':34, 'PILOTO CIVIL':35, 'INGENIERO AGROFORESTAL':36,\n",
    " 'COMUNICACION SOCIAL':37, 'INGENIERO ELECTRICO':38, 'ADMINISTRADOR INFORMATICO':39,\n",
    " 'QUIMICO':40, 'SALUD OCUPACIONAL':41, 'ECONOMISTA':42, 'ADMINISTRADOR LOGISTICO':43,\n",
    " 'SECRETARIA':44, 'PRE ESCOLAR':45, 'ADMINISTRADOR HOTELERO':46,\n",
    " 'TECNICO PROFESIONAL - INGENIERIA, ARQUITECTURA Y URBANISMO':47,\n",
    " 'TECNOLOGO - BELLAS ARTES':48, 'FONOAUDIOLOGO':49, 'INGENIERO AGRICOLA':50,\n",
    " 'DISENO INDUSTRIAL':51, 'ECOLOGO':52, 'TECNOLOGO - CIENCIAS DE LA SALUD':53,\n",
    " 'PUBLICISTA':54, 'INGENIERO ELECTRONICO':55,\n",
    " 'ADMINISTRADOR BANCARIO Y FINANCIERO':56, 'MERCADEO':57, 'DISENO GRAFICO':58,\n",
    " 'TECNICO PROFESIONAL - CIENCIAS SOCIALES, DERECHO Y POLITICA':59,\n",
    " 'INGENIERO INDUSTRIAL':150, 'INGENIERO FINANCIERO':60,\n",
    " 'TECNICO PROFESIONAL - CIENCIAS DE LA EDUCACION':61, 'TRABAJO SOCIAL':62,\n",
    " 'INGENIERO':63, 'MUSICA INSTRUMENTAL':64, 'DISENO DE MODAS':65, 'AGROLOGO':66,\n",
    " 'FOTOGRAFO':67, 'MEDICO DERMATOLOGO':68, 'ADMINISTRADOR DE OBRAS CIVILES':69,\n",
    " 'MEDICO GENERAL':70, 'BIOLOGO':71, 'FINANZAS':72, 'TEOLOGO':73, 'PERIODISTA':74,\n",
    " 'COMERCIO EXTERIOR':75, 'INGENIERO QUIMICO':76, 'INGENIERO DE ALIMENTOS':77,\n",
    " 'FILOSOFO':78, 'TELECOMUNICACIONES':79, 'TECNICO PROFESIONAL - BELLAS ARTES':80,\n",
    " 'GEOLOGO':81, 'CIENCIAS SOCIALES':82,\n",
    " 'TECNOLOGO - HUMANIDADES Y CIENCIAS RELIGIOSAS':83,\n",
    " 'INSTRUMENTACION QUIRURGICA':84, 'SOCIOLOGO':85,\n",
    " 'INGENIERO DE PRODUCCION AGRICOLA':86, 'GEOGRAFO':87, 'MILITAR':88,\n",
    " 'TECNOLOGO - MATEMATICAS Y CIENCIAS NATURALES':89, 'ANTROPOLOGO':90,\n",
    " 'ADMINISTRADOR EN SALUD':91, 'BELLAS ARTES':92, 'MEDICO OFTALMOLOGO':93,\n",
    " 'CRIMINALISTICA':94, 'HOTELERIA Y TURISMO':95,\n",
    " 'TECNOLOGO - CIENCIAS SOCIALES, DERECHO Y POLITICA':96, 'COSMETOLOGO':97,\n",
    " 'DEPORTE Y ACTIVIDAD FISICA':98, 'MATEMATICO':99, 'CINE Y TELEVISION':100,\n",
    " 'MICROBIOLOGIA':101, 'ESTADISTICO':102,\n",
    " 'TECNICO PROFESIONAL - MATEMATICAS Y CIENCIAS NATURALES':103, 'CONSTRUCCION':104,\n",
    " 'MEDICO PEDIATRA':105, 'TECNOLOGO - CIENCIAS DE LA EDUCACION':106, 'CIENCIAS':107,\n",
    " 'LENGUAS CLASICAS':108, 'AGROZOOTECNIO':109, 'NEGOCIOS INTERNACIONALES':110,\n",
    " 'BACTERIOLOGO':111, 'INGENIERO DEL MEDIO AMBIENTE':112, 'TERAPIA FISICA':113,\n",
    " 'LITERATURA':114, 'DECORADOR DE INTERIORES':115, 'INGENIERO COMERCIAL':116,\n",
    " 'CIENCIAS MILITARES':117, 'RELACIONES PUBLICAS E INSTITUCIONALES':118,\n",
    " 'CIENCIAS POLITICAS':119, 'NUTRICION Y DIETETICA':120, 'TERAPIA OCUPACIONAL':121,\n",
    " 'GERONTOLOGO':122, 'INGENIERO DE ACUICULTURA':123, 'CIENCIAS DEL DEPORTE':124, 'FISICO':125,\n",
    " 'INGENIERO ADMINISTRATIVO':126, 'INGENIERO CATASTRAL':127,\n",
    " 'MEDICO CIRUJANO PLASTICO':128, 'TERAPIA RESPIRATORIA':129, 'MEDICO OPTOMETRA':130,\n",
    " 'RECREACIONISTA':131, 'MEDICO CARDIOLOGO':132, 'BIOINGENIERO':133, 'BIBLIOTECOLOGO':134,\n",
    " 'MEDICO LEGAL':135, 'LENGUAS MODERNAS':136, 'MEDICO GINECOLOGO':138, 'HISTORIADOR':139,\n",
    " 'MEDICO UROLOGO':140, 'TRADUCCION SIMULTANEA':141, 'MEDICO NEUROLOGO':142,\n",
    " 'RELACIONES INTERNACIONALES':143, 'ADMINISTRADOR DEPORTIVO':144, 'MEDICO RADIOLOGO':145,\n",
    " 'MEDICO OTORRINORALINGOLOGO':146, 'MEDICO BACTERIOLOGO':147, 'INGENIERO PESQUERO':148})\n",
    "\n",
    "df5['indClienteEsEmpleado']=df5['indClienteEsEmpleado'].map({'N':0, 'S':1})\n",
    "\n",
    "df5['TipoClienteDesc']=df5['TipoClienteDesc'].map({'Cliente Comercialmente Gestionable':0, 'Cliente Convenio':1})\n",
    "\n",
    "df5['Regional']=df5['Regional'].map({'BOGOTA':0, 'SANTANDER':1, 'SUR':2, 'CAFETERA':3})"
   ]
  },
  {
   "cell_type": "code",
   "execution_count": 43,
   "id": "1e01b0a4",
   "metadata": {},
   "outputs": [
    {
     "data": {
      "text/plain": [
       "SexoDesc                           0\n",
       "Edad                               0\n",
       "EstadoCivilDesc                    0\n",
       "ProfesionDesc                      0\n",
       "indClienteEsEmpleado               0\n",
       "TipoClienteDesc                    0\n",
       "ValorActivos                       0\n",
       "ValorEgresos                       0\n",
       "ValorIngresos                      0\n",
       "ValorOtrosingresos                 0\n",
       "ValorPatrimonio                    0\n",
       "TotalPasivos                       0\n",
       "NumCreditos                        0\n",
       "SaldoCreditos                      0\n",
       "SaldoCarteraVencida                0\n",
       "NumeroTC                           0\n",
       "SaldoTC                            0\n",
       "SaldoTCVencido                     0\n",
       "NumeroSobregisrosUso               0\n",
       "SaldoSobregirosUso                 0\n",
       "SaldoSobregirosVencidos            0\n",
       "NumeroCuentasAhorroActivas         0\n",
       "SaldoCuentasAhorroActivas          0\n",
       "NumeroCuentasAhorroInactivas       0\n",
       "SaldoCuentasAhorroInactivas        0\n",
       "NumeroCuentasCorrienteActivas      0\n",
       "SaldoCuentasCorrienteActivas       0\n",
       "NumeroCuentascorrienteInactivas    0\n",
       "SaldoCuentascorrienteInactivas     0\n",
       "NumeroCDT                          0\n",
       "SaldoCDT                           0\n",
       "NumeroCDAT                         0\n",
       "SaldoCDAT                          0\n",
       "SaldoTotalCartera                  0\n",
       "NumeroOperacionesCartera           0\n",
       "NumeroProductosCaptacion           0\n",
       "SaldoTotalCaptaciones              0\n",
       "NumCreditosVencidos                0\n",
       "NumeroTCVencidas                   0\n",
       "NumOperacionesCarteraVencida       0\n",
       "SaldoTotalCarteraVencida           0\n",
       "Regional                           0\n",
       "Churn                              0\n",
       "dtype: int64"
      ]
     },
     "execution_count": 43,
     "metadata": {},
     "output_type": "execute_result"
    }
   ],
   "source": [
    "df5.isnull().sum()"
   ]
  },
  {
   "cell_type": "markdown",
   "id": "5b17bc19",
   "metadata": {},
   "source": [
    "##### Correlación de variables"
   ]
  },
  {
   "cell_type": "code",
   "execution_count": 44,
   "id": "4ac55e4a",
   "metadata": {},
   "outputs": [
    {
     "data": {
      "image/png": "[encoded data removed]",
      "text/plain": [
       "<Figure size 2160x2160 with 2 Axes>"
      ]
     },
     "metadata": {
      "needs_background": "light"
     },
     "output_type": "display_data"
    }
   ],
   "source": [
    "#Correlación de las variables \n",
    "plt.figure(figsize=(30,30))\n",
    "sns.heatmap(round(df5.corr(),2),annot=True,mask=None,cmap='GnBu')\n",
    "plt.show()"
   ]
  },
  {
   "cell_type": "code",
   "execution_count": 45,
   "id": "c480e308",
   "metadata": {},
   "outputs": [],
   "source": [
    "#Selección de variables dependientes e independietes\n",
    "X = df5.drop(['Churn'], axis=1)\n",
    "Y= df5['Churn']"
   ]
  },
  {
   "cell_type": "code",
   "execution_count": 46,
   "id": "a8084cdb",
   "metadata": {},
   "outputs": [],
   "source": [
    "import pandas as pd\n",
    "import numpy as np\n",
    "from sklearn import linear_model\n",
    "from sklearn import model_selection\n",
    "from sklearn.metrics import classification_report\n",
    "from sklearn.linear_model import LogisticRegression\n",
    "from sklearn.preprocessing import StandardScaler\n",
    "from sklearn.model_selection import train_test_split\n",
    "from sklearn.metrics import confusion_matrix\n",
    "from sklearn.metrics import accuracy_score\n",
    "from sklearn.metrics import ConfusionMatrixDisplay, precision_score, recall_score, f1_score\n",
    "from sklearn.neural_network import MLPClassifier\n",
    "import matplotlib.pyplot as plt\n",
    "import seaborn as sb\n",
    "%matplotlib inline\n",
    "import numpy as np\n",
    "import pandas as pd\n",
    "import seaborn as sns\n",
    "from datetime import datetime\n",
    "import matplotlib.pyplot as plt\n",
    "%matplotlib inline\n",
    "import plotly.graph_objs as go\n",
    "from plotly.offline import init_notebook_mode, iplot\n",
    "import plotly.express as px\n",
    "from collections import Counter\n",
    "\n",
    "import sklearn\n",
    "from sklearn.model_selection import train_test_split,GridSearchCV,cross_val_score,KFold\n",
    "from sklearn.preprocessing import MinMaxScaler\n",
    "from sklearn.preprocessing import StandardScaler\n",
    "from sklearn.metrics import f1_score\n",
    "from sklearn.metrics import accuracy_score\n",
    "from sklearn.metrics import confusion_matrix\n",
    "from sklearn.metrics import classification_report \n",
    "\n",
    "# Importing modelling libraries\n",
    "import xgboost as xgb\n",
    "from sklearn.svm import SVC\n",
    "from sklearn.ensemble import RandomForestClassifier,GradientBoostingClassifier,VotingClassifier,BaggingClassifier\n",
    "from sklearn.neighbors import KNeighborsClassifier\n",
    "from sklearn.tree import DecisionTreeClassifier\n",
    "from sklearn.linear_model import LogisticRegression\n",
    "from sklearn.naive_bayes import GaussianNB\n",
    "from xgboost import XGBClassifier\n",
    "from sklearn.discriminant_analysis import LinearDiscriminantAnalysis\n",
    "from lightgbm import LGBMClassifier\n",
    "from sklearn.neural_network import MLPClassifier\n",
    "from sklearn.calibration import CalibratedClassifierCV"
   ]
  },
  {
   "cell_type": "code",
   "execution_count": 47,
   "id": "cdfdd3e8",
   "metadata": {},
   "outputs": [],
   "source": [
    "# División de la matriz en datos de entrenamiento (70%) y  prueba (30%)\n",
    "X_train, X_test, Y_train, Y_test = train_test_split(X, Y, test_size = 0.3, random_state = 0)"
   ]
  },
  {
   "cell_type": "code",
   "execution_count": 48,
   "id": "6840fe5e",
   "metadata": {},
   "outputs": [],
   "source": [
    "#Definición de los modelos de entrenamiento\n",
    "DTclassifier = DecisionTreeClassifier()\n",
    "RandomForestclassifier = RandomForestClassifier()\n",
    "LOGISTICclassifier = LogisticRegression()"
   ]
  },
  {
   "cell_type": "markdown",
   "id": "8d18605d",
   "metadata": {},
   "source": [
    "##### Modelo de árbol de decisión"
   ]
  },
  {
   "cell_type": "code",
   "execution_count": 49,
   "id": "0b0bc573",
   "metadata": {},
   "outputs": [
    {
     "data": {
      "text/plain": [
       "DecisionTreeClassifier()"
      ]
     },
     "execution_count": 49,
     "metadata": {},
     "output_type": "execute_result"
    }
   ],
   "source": [
    "DTclassifier.fit(X_train, Y_train)"
   ]
  },
  {
   "cell_type": "markdown",
   "id": "dfdf4742",
   "metadata": {},
   "source": [
    "##### Modelo clasificador RandomForest"
   ]
  },
  {
   "cell_type": "code",
   "execution_count": 50,
   "id": "5943eb32",
   "metadata": {},
   "outputs": [
    {
     "data": {
      "text/plain": [
       "RandomForestClassifier()"
      ]
     },
     "execution_count": 50,
     "metadata": {},
     "output_type": "execute_result"
    }
   ],
   "source": [
    "RandomForestclassifier.fit(X_train, Y_train)"
   ]
  },
  {
   "cell_type": "markdown",
   "id": "56498afb",
   "metadata": {},
   "source": [
    "##### Modelo Regresión logistica"
   ]
  },
  {
   "cell_type": "code",
   "execution_count": 51,
   "id": "cfe9b90b",
   "metadata": {},
   "outputs": [
    {
     "data": {
      "text/plain": [
       "LogisticRegression()"
      ]
     },
     "execution_count": 51,
     "metadata": {},
     "output_type": "execute_result"
    }
   ],
   "source": [
    "LOGISTICclassifier.fit(X_train, Y_train)"
   ]
  },
  {
   "cell_type": "markdown",
   "id": "f2a46e91",
   "metadata": {},
   "source": [
    "##### Evaluación de los modelos con los datos de prueba"
   ]
  },
  {
   "cell_type": "code",
   "execution_count": 52,
   "id": "691b9e76",
   "metadata": {},
   "outputs": [],
   "source": [
    "DTpred = DTclassifier.predict(X_train)\n",
    "RFpred = RandomForestclassifier.predict(X_train)\n",
    "LOGISTICpred = LOGISTICclassifier.predict(X_train)"
   ]
  },
  {
   "cell_type": "markdown",
   "id": "1b662f65",
   "metadata": {},
   "source": [
    "#### Métricas de Accuracy de cada uno de los modelos entrenados"
   ]
  },
  {
   "cell_type": "code",
   "execution_count": 53,
   "id": "cc9a8b1e",
   "metadata": {},
   "outputs": [
    {
     "name": "stdout",
     "output_type": "stream",
     "text": [
      "Accuracy of the Decision Tree Classifier:  0.9992875315211202\n",
      "Accuracy of the Random Forest Classifier:  0.9992875315211202\n",
      "Accuracy of the Logistic Regression Classifier:  0.5007615558740782\n"
     ]
    }
   ],
   "source": [
    "DTaccuracy = accuracy_score(Y_train, DTpred)\n",
    "print(\"Accuracy of the Decision Tree Classifier: \",DTaccuracy)\n",
    "\n",
    "RFaccuracy = accuracy_score(Y_train, RFpred)\n",
    "print(\"Accuracy of the Random Forest Classifier: \",RFaccuracy)\n",
    "\n",
    "LOGISTICaccuracy = accuracy_score(Y_train, LOGISTICpred)\n",
    "print(\"Accuracy of the Logistic Regression Classifier: \",LOGISTICaccuracy)"
   ]
  },
  {
   "cell_type": "markdown",
   "id": "0433be1b",
   "metadata": {},
   "source": [
    "A continuación se muestran la matriz de confusión  para cada uno de los modelos con los datos de entrenamiento y datos de prueba"
   ]
  },
  {
   "cell_type": "markdown",
   "id": "739b5daa",
   "metadata": {},
   "source": [
    "##### Modelo de árbol de decisión"
   ]
  },
  {
   "cell_type": "code",
   "execution_count": 54,
   "id": "061e95d0",
   "metadata": {},
   "outputs": [
    {
     "data": {
      "text/plain": [
       "array([[178096,    100],\n",
       "       [   154, 178157]], dtype=int64)"
      ]
     },
     "execution_count": 54,
     "metadata": {},
     "output_type": "execute_result"
    }
   ],
   "source": [
    "cmDT = confusion_matrix(Y_train,DTpred)\n",
    "cmDT"
   ]
  },
  {
   "cell_type": "code",
   "execution_count": 55,
   "id": "a407863a",
   "metadata": {},
   "outputs": [
    {
     "name": "stdout",
     "output_type": "stream",
     "text": [
      "              precision    recall  f1-score   support\n",
      "\n",
      "           0       1.00      1.00      1.00    178196\n",
      "           1       1.00      1.00      1.00    178311\n",
      "\n",
      "    accuracy                           1.00    356507\n",
      "   macro avg       1.00      1.00      1.00    356507\n",
      "weighted avg       1.00      1.00      1.00    356507\n",
      "\n"
     ]
    }
   ],
   "source": [
    "print(classification_report(Y_train, DTpred))"
   ]
  },
  {
   "cell_type": "code",
   "execution_count": 56,
   "id": "fc476283",
   "metadata": {},
   "outputs": [
    {
     "data": {
      "text/plain": [
       "array([[37970, 38357],\n",
       "       [38384, 38079]], dtype=int64)"
      ]
     },
     "execution_count": 56,
     "metadata": {},
     "output_type": "execute_result"
    }
   ],
   "source": [
    "DTpred2 = DTclassifier.predict(X_test)\n",
    "cmDT2 = confusion_matrix(Y_test,DTpred2)\n",
    "cmDT2"
   ]
  },
  {
   "cell_type": "code",
   "execution_count": 57,
   "id": "77bf4cb5",
   "metadata": {},
   "outputs": [
    {
     "name": "stdout",
     "output_type": "stream",
     "text": [
      "              precision    recall  f1-score   support\n",
      "\n",
      "           0       0.50      0.50      0.50     76327\n",
      "           1       0.50      0.50      0.50     76463\n",
      "\n",
      "    accuracy                           0.50    152790\n",
      "   macro avg       0.50      0.50      0.50    152790\n",
      "weighted avg       0.50      0.50      0.50    152790\n",
      "\n"
     ]
    }
   ],
   "source": [
    "print(classification_report(Y_test, DTpred2))"
   ]
  },
  {
   "cell_type": "markdown",
   "id": "de69a7c1",
   "metadata": {},
   "source": [
    "Hay sobreajuste del modelo"
   ]
  },
  {
   "cell_type": "markdown",
   "id": "02375a9c",
   "metadata": {},
   "source": [
    "##### Modelo clasificador RandomForest"
   ]
  },
  {
   "cell_type": "code",
   "execution_count": 58,
   "id": "fd8ebd58",
   "metadata": {},
   "outputs": [
    {
     "data": {
      "text/plain": [
       "array([[178058,    138],\n",
       "       [   116, 178195]], dtype=int64)"
      ]
     },
     "execution_count": 58,
     "metadata": {},
     "output_type": "execute_result"
    }
   ],
   "source": [
    "cmRF = confusion_matrix(Y_train,RFpred)\n",
    "cmRF"
   ]
  },
  {
   "cell_type": "code",
   "execution_count": 59,
   "id": "bef71968",
   "metadata": {},
   "outputs": [
    {
     "name": "stdout",
     "output_type": "stream",
     "text": [
      "              precision    recall  f1-score   support\n",
      "\n",
      "           0       1.00      1.00      1.00    178196\n",
      "           1       1.00      1.00      1.00    178311\n",
      "\n",
      "    accuracy                           1.00    356507\n",
      "   macro avg       1.00      1.00      1.00    356507\n",
      "weighted avg       1.00      1.00      1.00    356507\n",
      "\n"
     ]
    }
   ],
   "source": [
    "print(classification_report(Y_train, RFpred))"
   ]
  },
  {
   "cell_type": "code",
   "execution_count": 60,
   "id": "e72fb030",
   "metadata": {},
   "outputs": [
    {
     "data": {
      "text/plain": [
       "array([[40012, 36315],\n",
       "       [40375, 36088]], dtype=int64)"
      ]
     },
     "execution_count": 60,
     "metadata": {},
     "output_type": "execute_result"
    }
   ],
   "source": [
    "RFpred2 = RandomForestclassifier.predict(X_test)\n",
    "cmRF2 = confusion_matrix(Y_test,RFpred2)\n",
    "cmRF2"
   ]
  },
  {
   "cell_type": "code",
   "execution_count": 61,
   "id": "8f196be0",
   "metadata": {},
   "outputs": [
    {
     "name": "stdout",
     "output_type": "stream",
     "text": [
      "              precision    recall  f1-score   support\n",
      "\n",
      "           0       0.50      0.52      0.51     76327\n",
      "           1       0.50      0.47      0.48     76463\n",
      "\n",
      "    accuracy                           0.50    152790\n",
      "   macro avg       0.50      0.50      0.50    152790\n",
      "weighted avg       0.50      0.50      0.50    152790\n",
      "\n"
     ]
    }
   ],
   "source": [
    "print(classification_report(Y_test, RFpred2))"
   ]
  },
  {
   "cell_type": "markdown",
   "id": "3457780a",
   "metadata": {},
   "source": [
    "##### Modelo Regresión logistica"
   ]
  },
  {
   "cell_type": "code",
   "execution_count": 62,
   "id": "e0c5114d",
   "metadata": {},
   "outputs": [
    {
     "data": {
      "text/plain": [
       "array([[149854,  28342],\n",
       "       [149640,  28671]], dtype=int64)"
      ]
     },
     "execution_count": 62,
     "metadata": {},
     "output_type": "execute_result"
    }
   ],
   "source": [
    "cmLOGISTIC= confusion_matrix(Y_train,LOGISTICpred)\n",
    "cmLOGISTIC"
   ]
  },
  {
   "cell_type": "code",
   "execution_count": 63,
   "id": "e78b75ca",
   "metadata": {},
   "outputs": [
    {
     "name": "stdout",
     "output_type": "stream",
     "text": [
      "              precision    recall  f1-score   support\n",
      "\n",
      "           0       0.50      0.84      0.63    178196\n",
      "           1       0.50      0.16      0.24    178311\n",
      "\n",
      "    accuracy                           0.50    356507\n",
      "   macro avg       0.50      0.50      0.44    356507\n",
      "weighted avg       0.50      0.50      0.44    356507\n",
      "\n"
     ]
    }
   ],
   "source": [
    "print(classification_report(Y_train, LOGISTICpred))"
   ]
  },
  {
   "cell_type": "code",
   "execution_count": 64,
   "id": "db688dcd",
   "metadata": {},
   "outputs": [],
   "source": [
    "import joblib\n",
    "joblib.dump(DTclassifier, 'model.pkl')\n",
    "TD2=joblib.load('model.pkl')"
   ]
  },
  {
   "cell_type": "code",
   "execution_count": 66,
   "id": "be4288ab",
   "metadata": {},
   "outputs": [
    {
     "name": "stdout",
     "output_type": "stream",
     "text": [
      " 1) EstadoCivilDesc                0.105478\n",
      " 2) ValorIngresos                  0.092268\n",
      " 3) TotalPasivos                   0.090243\n",
      " 4) ValorOtrosingresos             0.088682\n",
      " 5) NumCreditosVencidos            0.086273\n",
      " 6) NumCreditos                    0.081110\n",
      " 7) ValorEgresos                   0.068281\n",
      " 8) NumeroCuentasAhorroInactivas   0.051631\n",
      " 9) NumeroCuentasCorrienteActivas  0.050206\n",
      "10) NumeroOperacionesCartera       0.049874\n",
      "11) SaldoCarteraVencida            0.048108\n",
      "12) ProfesionDesc                  0.031309\n",
      "13) Churn                          0.027864\n",
      "14) SaldoTCVencido                 0.018772\n",
      "15) indClienteEsEmpleado           0.016864\n",
      "16) Edad                           0.013028\n",
      "17) SaldoTotalCaptaciones          0.012213\n",
      "18) SaldoCuentasAhorroInactivas    0.009834\n",
      "19) NumeroProductosCaptacion       0.009282\n",
      "20) SaldoCreditos                  0.008446\n",
      "21) SaldoCuentasAhorroActivas      0.006088\n",
      "22) ValorPatrimonio                0.005004\n",
      "23) NumeroTC                       0.004559\n",
      "24) SaldoTC                        0.003145\n",
      "25) NumeroCDT                      0.003120\n",
      "26) SaldoTotalCarteraVencida       0.002999\n",
      "27) NumeroCDAT                     0.002612\n",
      "28) ValorActivos                   0.002609\n",
      "29) NumeroTCVencidas               0.002461\n",
      "30) NumeroSobregisrosUso           0.002448\n",
      "31) NumeroCuentascorrienteInactivas 0.002354\n",
      "32) SaldoCuentascorrienteInactivas 0.001286\n",
      "33) SaldoCDT                       0.000770\n",
      "34) SaldoCuentasCorrienteActivas   0.000590\n",
      "35) SaldoSobregirosVencidos        0.000076\n",
      "36) SaldoCDAT                      0.000050\n",
      "37) TipoClienteDesc                0.000029\n",
      "38) SaldoSobregirosUso             0.000020\n",
      "39) SaldoTotalCartera              0.000016\n",
      "40) NumOperacionesCarteraVencida   0.000000\n",
      "41) Regional                       0.000000\n",
      "42) NumeroCuentasAhorroActivas     0.000000\n"
     ]
    }
   ],
   "source": [
    "importances = TD2.feature_importances_\n",
    "sorted_indices = np.argsort(importances)[::-1]\n",
    " \n",
    "feat_labels = df5.columns[1:]\n",
    " \n",
    "for f in range(X_test.shape[1]):\n",
    "    print(\"%2d) %-*s %f\" % (f + 1, 30,\n",
    "                            feat_labels[sorted_indices[f]],\n",
    "                            importances[sorted_indices[f]]))"
   ]
  },
  {
   "cell_type": "markdown",
   "id": "84bdec62",
   "metadata": {},
   "source": [
    "explainer = shap.Explainer(TD2.predict, X_test)\n",
    "shap_values = explainer(X_test)"
   ]
  },
  {
   "cell_type": "markdown",
   "id": "c5534736",
   "metadata": {},
   "source": [
    "shap.plots.bar(shap_values)"
   ]
  },
  {
   "cell_type": "markdown",
   "id": "02896ae9",
   "metadata": {},
   "source": [
    "### Ajuste de hiperparámetros y cross validation"
   ]
  },
  {
   "cell_type": "markdown",
   "id": "e1a8f491",
   "metadata": {},
   "source": [
    "##### Modelo árbol de decisión evaluado con criterio de Gini"
   ]
  },
  {
   "cell_type": "code",
   "execution_count": 68,
   "id": "78e12905",
   "metadata": {},
   "outputs": [
    {
     "name": "stdout",
     "output_type": "stream",
     "text": [
      ">1, train: 0.500, test: 0.500\n",
      ">2, train: 0.500, test: 0.500\n",
      ">3, train: 0.500, test: 0.500\n",
      ">4, train: 0.501, test: 0.500\n",
      ">5, train: 0.501, test: 0.500\n",
      ">6, train: 0.501, test: 0.501\n",
      ">7, train: 0.502, test: 0.500\n",
      ">8, train: 0.503, test: 0.500\n",
      ">9, train: 0.503, test: 0.500\n",
      ">10, train: 0.504, test: 0.500\n",
      ">11, train: 0.504, test: 0.500\n",
      ">12, train: 0.505, test: 0.500\n",
      ">13, train: 0.506, test: 0.500\n",
      ">14, train: 0.507, test: 0.500\n",
      ">15, train: 0.508, test: 0.500\n",
      ">16, train: 0.509, test: 0.501\n",
      ">17, train: 0.510, test: 0.501\n",
      ">18, train: 0.512, test: 0.501\n",
      ">19, train: 0.513, test: 0.501\n",
      ">20, train: 0.515, test: 0.501\n",
      ">21, train: 0.517, test: 0.501\n",
      ">22, train: 0.520, test: 0.501\n",
      ">23, train: 0.522, test: 0.501\n",
      ">24, train: 0.525, test: 0.501\n",
      ">25, train: 0.528, test: 0.502\n",
      ">26, train: 0.530, test: 0.501\n",
      ">27, train: 0.533, test: 0.502\n",
      ">28, train: 0.536, test: 0.501\n",
      ">29, train: 0.539, test: 0.501\n"
     ]
    },
    {
     "data": {
      "image/png": "[encoded data removed]",
      "text/plain": [
       "<Figure size 432x288 with 1 Axes>"
      ]
     },
     "metadata": {
      "needs_background": "light"
     },
     "output_type": "display_data"
    }
   ],
   "source": [
    "# Definición de las listas para colocar los scores obtenidos\n",
    "train_scores, test_scores = list(), list()\n",
    "# Definción de la máxima profundidad del arbol\n",
    "values = [i for i in range(1, 30)]\n",
    "for i in values:\n",
    "\t# Configuración del modelo\n",
    "\tmodel = DecisionTreeClassifier(max_depth=i, criterion = 'gini',min_samples_leaf=2)\n",
    "\t# fit model on the training dataset\n",
    "\tmodel.fit(X_train, Y_train)\n",
    "\t# Evaluación de los datos de entrenamiento\n",
    "\ttrain_yhat = model.predict(X_train)\n",
    "\ttrain_acc = accuracy_score(Y_train, train_yhat)\n",
    "\ttrain_scores.append(train_acc)\n",
    "\t# Evaluación en los datos de prueba\n",
    "\ttest_yhat = model.predict(X_test)\n",
    "\ttest_acc = accuracy_score(Y_test, test_yhat)\n",
    "\ttest_scores.append(test_acc)\n",
    "\t# Valores obenidos apra cada profundidad\n",
    "\tprint('>%d, train: %.3f, test: %.3f' % (i, train_acc, test_acc))\n",
    "# Gráfico de los datos de prueba y entrenamiento en función de la profundidad\n",
    "plt.plot(values, train_scores, '-o', label='Train')\n",
    "plt.plot(values, test_scores, '-o', label='Test')\n",
    "plt.legend()\n",
    "plt.show()"
   ]
  },
  {
   "cell_type": "markdown",
   "id": "05ef4571",
   "metadata": {},
   "source": [
    "# Alternativa 3"
   ]
  },
  {
   "cell_type": "code",
   "execution_count": 73,
   "id": "f5cd6c20",
   "metadata": {},
   "outputs": [
    {
     "name": "stderr",
     "output_type": "stream",
     "text": [
      "C:\\Users\\Julian\\AppData\\Local\\Temp\\ipykernel_34176\\3818031024.py:1: FutureWarning:\n",
      "\n",
      "In a future version of pandas all arguments of DataFrame.drop except for the argument 'labels' will be keyword-only.\n",
      "\n"
     ]
    }
   ],
   "source": [
    "X = np.array(df5.drop(['Churn'],1))\n",
    "Y= np.array(df5['Churn'])\n",
    "# Splitting feature matrix for training (70%) and test (30%)\n",
    "X_train, X_test, Y_train, Y_test = train_test_split(X, Y, test_size = 0.3, stratify = Y, random_state = 500)"
   ]
  },
  {
   "cell_type": "code",
   "execution_count": 74,
   "id": "bc85da62",
   "metadata": {},
   "outputs": [],
   "source": [
    "# data normalization with sklearn\n",
    "sc = StandardScaler()\n",
    "X_train = sc.fit_transform(X_train)\n",
    "X_test = sc.transform(X_test)"
   ]
  },
  {
   "cell_type": "code",
   "execution_count": 75,
   "id": "7e7ccf27",
   "metadata": {},
   "outputs": [],
   "source": [
    "r=26\n",
    "DTclassifier = DecisionTreeClassifier(criterion = 'entropy',random_state=r)\n",
    "XGBoostclassifier = XGBClassifier()\n",
    "RandomForestclassifier = RandomForestClassifier(criterion = 'entropy')\n",
    "SVMclassifier = SVC(kernel='rbf',probability=True)\n",
    "LOGISTICclassifier = LogisticRegression()\n",
    "KNNclassifier = KNeighborsClassifier()\n",
    "GNBclassifier = GaussianNB() \n",
    "BaggingClassifier= BaggingClassifier(random_state=r)\n",
    "NeuralNetworkClassifier= MLPClassifier(random_state=r)\n",
    "GBM = GradientBoostingClassifier(random_state=r)"
   ]
  },
  {
   "cell_type": "code",
   "execution_count": 76,
   "id": "643c08cb",
   "metadata": {},
   "outputs": [
    {
     "name": "stdout",
     "output_type": "stream",
     "text": [
      "Accuracy of the Decision Tree Classifier:  0.5006414032331958\n"
     ]
    }
   ],
   "source": [
    "DTclassifier.fit(X_train, Y_train)\n",
    "DTpred = DTclassifier.predict(X_test)\n",
    "DTaccuracy = accuracy_score(Y_test, DTpred)\n",
    "print(\"Accuracy of the Decision Tree Classifier: \",DTaccuracy)"
   ]
  },
  {
   "cell_type": "code",
   "execution_count": 77,
   "id": "fb1a8496",
   "metadata": {},
   "outputs": [
    {
     "name": "stdout",
     "output_type": "stream",
     "text": [
      "Accuracy of the XGBoost Classifier:  0.49995418548334314\n"
     ]
    }
   ],
   "source": [
    "XGBoostclassifier.fit(X_train, Y_train)\n",
    "XGBpred = XGBoostclassifier.predict(X_test)\n",
    "XGBaccuracy = accuracy_score(Y_test, XGBpred)\n",
    "print(\"Accuracy of the XGBoost Classifier: \",XGBaccuracy)"
   ]
  },
  {
   "cell_type": "code",
   "execution_count": 78,
   "id": "cabac885",
   "metadata": {},
   "outputs": [
    {
     "name": "stdout",
     "output_type": "stream",
     "text": [
      "Accuracy of the Random Forest Classifier:  0.4992931474572943\n"
     ]
    }
   ],
   "source": [
    "RandomForestclassifier.fit(X_train, Y_train)\n",
    "RFpred = RandomForestclassifier.predict(X_test)\n",
    "RFaccuracy = accuracy_score(Y_test, RFpred)\n",
    "print(\"Accuracy of the Random Forest Classifier: \",RFaccuracy)"
   ]
  },
  {
   "cell_type": "code",
   "execution_count": 79,
   "id": "54b64d52",
   "metadata": {},
   "outputs": [
    {
     "name": "stdout",
     "output_type": "stream",
     "text": [
      "Accuracy of the Logistic Regression Classifier:  0.49995418548334314\n"
     ]
    }
   ],
   "source": [
    "LOGISTICclassifier.fit(X_train, Y_train)\n",
    "LOGISTICpred = LOGISTICclassifier.predict(X_test)\n",
    "LOGISTICaccuracy = accuracy_score(Y_test, LOGISTICpred)\n",
    "print(\"Accuracy of the Logistic Regression Classifier: \",LOGISTICaccuracy)"
   ]
  },
  {
   "cell_type": "code",
   "execution_count": 80,
   "id": "288133ea",
   "metadata": {},
   "outputs": [
    {
     "name": "stdout",
     "output_type": "stream",
     "text": [
      "Accuracy of the GNB Classifier:  0.5006937626808037\n"
     ]
    }
   ],
   "source": [
    "GNBclassifier.fit(X_train, Y_train)\n",
    "GNBpred = GNBclassifier.predict(X_test)\n",
    "GNBaccuracy = accuracy_score(Y_test, GNBpred)\n",
    "print(\"Accuracy of the GNB Classifier: \", GNBaccuracy) "
   ]
  },
  {
   "cell_type": "code",
   "execution_count": 81,
   "id": "398b1b47",
   "metadata": {},
   "outputs": [
    {
     "name": "stdout",
     "output_type": "stream",
     "text": [
      "Accuracy of the Bagging Classifier:  0.49892008639308855\n"
     ]
    }
   ],
   "source": [
    "BaggingClassifier.fit(X_train, Y_train)\n",
    "Baggingpred= BaggingClassifier.predict(X_test)\n",
    "Baggingaccuracy = accuracy_score(Y_test, Baggingpred)\n",
    "print(\"Accuracy of the Bagging Classifier: \", Baggingaccuracy)"
   ]
  },
  {
   "cell_type": "code",
   "execution_count": 82,
   "id": "251b0867",
   "metadata": {},
   "outputs": [
    {
     "name": "stdout",
     "output_type": "stream",
     "text": [
      "Accuracy of the Neural Network Classifier:  0.501511879049676\n"
     ]
    }
   ],
   "source": [
    "NeuralNetworkClassifier.fit(X_train, Y_train)\n",
    "NNpred= NeuralNetworkClassifier.predict(X_test)\n",
    "NNaccuracy = accuracy_score(Y_test, NNpred)\n",
    "print(\"Accuracy of the Neural Network Classifier: \", NNaccuracy)"
   ]
  },
  {
   "cell_type": "code",
   "execution_count": 83,
   "id": "2b54ba3b",
   "metadata": {},
   "outputs": [
    {
     "name": "stdout",
     "output_type": "stream",
     "text": [
      "Accuracy of the GBM Classifier:  0.5013417108449506\n"
     ]
    }
   ],
   "source": [
    "GBM.fit(X_train, Y_train)\n",
    "GBMpred= GBM.predict(X_test)\n",
    "GBMaccuracy = accuracy_score(Y_test, GBMpred)\n",
    "print(\"Accuracy of the GBM Classifier: \", GBMaccuracy)"
   ]
  },
  {
   "cell_type": "code",
   "execution_count": 84,
   "id": "d1c9d839",
   "metadata": {},
   "outputs": [
    {
     "name": "stdout",
     "output_type": "stream",
     "text": [
      "Requirement already satisfied: transformers in c:\\users\\julian\\anaconda3\\lib\\site-packages (4.24.0)\n",
      "Requirement already satisfied: filelock in c:\\users\\julian\\anaconda3\\lib\\site-packages (from transformers) (3.6.0)\n",
      "Requirement already satisfied: pyyaml>=5.1 in c:\\users\\julian\\anaconda3\\lib\\site-packages (from transformers) (6.0)\n",
      "Requirement already satisfied: tokenizers!=0.11.3,<0.14,>=0.11.1 in c:\\users\\julian\\anaconda3\\lib\\site-packages (from transformers) (0.13.2)\n",
      "Requirement already satisfied: regex!=2019.12.17 in c:\\users\\julian\\anaconda3\\lib\\site-packages (from transformers) (2022.3.15)\n",
      "Requirement already satisfied: packaging>=20.0 in c:\\users\\julian\\anaconda3\\lib\\site-packages (from transformers) (21.3)\n",
      "Requirement already satisfied: requests in c:\\users\\julian\\anaconda3\\lib\\site-packages (from transformers) (2.27.1)\n",
      "Requirement already satisfied: numpy>=1.17 in c:\\users\\julian\\anaconda3\\lib\\site-packages (from transformers) (1.21.5)\n",
      "Requirement already satisfied: tqdm>=4.27 in c:\\users\\julian\\anaconda3\\lib\\site-packages (from transformers) (4.64.0)\n",
      "Requirement already satisfied: huggingface-hub<1.0,>=0.10.0 in c:\\users\\julian\\anaconda3\\lib\\site-packages (from transformers) (0.11.1)\n",
      "Requirement already satisfied: typing-extensions>=3.7.4.3 in c:\\users\\julian\\anaconda3\\lib\\site-packages (from huggingface-hub<1.0,>=0.10.0->transformers) (4.1.1)\n",
      "Requirement already satisfied: pyparsing!=3.0.5,>=2.0.2 in c:\\users\\julian\\anaconda3\\lib\\site-packages (from packaging>=20.0->transformers) (3.0.4)\n",
      "Requirement already satisfied: colorama in c:\\users\\julian\\anaconda3\\lib\\site-packages (from tqdm>=4.27->transformers) (0.4.4)\n",
      "Requirement already satisfied: certifi>=2017.4.17 in c:\\users\\julian\\anaconda3\\lib\\site-packages (from requests->transformers) (2022.6.15)\n",
      "Requirement already satisfied: urllib3<1.27,>=1.21.1 in c:\\users\\julian\\anaconda3\\lib\\site-packages (from requests->transformers) (1.26.9)\n",
      "Requirement already satisfied: charset-normalizer~=2.0.0 in c:\\users\\julian\\anaconda3\\lib\\site-packages (from requests->transformers) (2.0.4)\n",
      "Requirement already satisfied: idna<4,>=2.5 in c:\\users\\julian\\anaconda3\\lib\\site-packages (from requests->transformers) (3.3)\n"
     ]
    },
    {
     "name": "stderr",
     "output_type": "stream",
     "text": [
      "None of PyTorch, TensorFlow >= 2.0, or Flax have been found. Models won't be available and only tokenizers, configuration and file/data utilities can be used.\n"
     ]
    }
   ],
   "source": [
    "from transformers import pipeline"
   ]
  },
  {
   "cell_type": "code",
   "execution_count": 87,
   "id": "d2932501",
   "metadata": {},
   "outputs": [
    {
     "name": "stderr",
     "output_type": "stream",
     "text": [
      "C:\\Users\\Julian\\anaconda3\\lib\\site-packages\\sklearn\\neural_network\\_multilayer_perceptron.py:699: UserWarning:\n",
      "\n",
      "Training interrupted by user.\n",
      "\n"
     ]
    },
    {
     "data": {
      "text/plain": [
       "GridSearchCV(cv=5, estimator=MLPClassifier(max_iter=100), n_jobs=-1,\n",
       "             param_grid={'activation': ['tanh', 'relu'],\n",
       "                         'alpha': [0.0001, 0.05],\n",
       "                         'hidden_layer_sizes': [(10, 30, 10), (20,)],\n",
       "                         'learning_rate': ['constant', 'adaptive'],\n",
       "                         'solver': ['sgd', 'adam']})"
      ]
     },
     "execution_count": 87,
     "metadata": {},
     "output_type": "execute_result"
    }
   ],
   "source": [
    "mlp_gs = MLPClassifier(max_iter=100)\n",
    "parameter_space = {\n",
    "    'hidden_layer_sizes': [(10,30,10),(20,)],\n",
    "    'activation': ['tanh', 'relu'],\n",
    "    'solver': ['sgd', 'adam'],\n",
    "    'alpha': [0.0001, 0.05],\n",
    "    'learning_rate': ['constant','adaptive'],\n",
    "}\n",
    "from sklearn.model_selection import GridSearchCV\n",
    "clf = GridSearchCV(mlp_gs, parameter_space, n_jobs=-1, cv=5)\n",
    "clf.fit(X_train, Y_train) # X is train samples and y is the corresponding labels"
   ]
  },
  {
   "cell_type": "code",
   "execution_count": null,
   "id": "0416474a",
   "metadata": {},
   "outputs": [],
   "source": [
    "print('Best parameters found:\\n', clf.best_params_)"
   ]
  },
  {
   "cell_type": "code",
   "execution_count": null,
   "id": "df17c5c7",
   "metadata": {},
   "outputs": [],
   "source": [
    "NeuralNetworkClassifierbest= MLPClassifier(activation={'tanh'},alpha={0.0001},hidden_layer_sizes={10, 30, 10},learning_rate={'adaptive'},solver={'sgd'})"
   ]
  },
  {
   "cell_type": "code",
   "execution_count": null,
   "id": "2ead5c8d",
   "metadata": {},
   "outputs": [],
   "source": [
    "NeuralNetworkClassifierbest.fit(X_train, Y_train)\n",
    "NNpred2=NeuralNetworkClassifierbest.predict(X_test)\n",
    "NNaccuracy = accuracy_score(Y_test, NNpred2)\n",
    "print(\"Accuracy of the Neural Network Classifier: \", NNaccuracy)"
   ]
  },
  {
   "cell_type": "code",
   "execution_count": null,
   "id": "adce302c",
   "metadata": {},
   "outputs": [],
   "source": [
    "#Selección de variables dependientes e independietes\n",
    "X = df5.drop(['Churn'], axis=1)\n",
    "Y= df5['Churn']\n",
    "# División de la matriz en datos de entrenamiento (70%) y  prueba (30%)\n",
    "X_train, X_test, Y_train, Y_test = train_test_split(X, Y, test_size = 0.3, random_state = 0)"
   ]
  },
  {
   "cell_type": "code",
   "execution_count": null,
   "id": "e787a132",
   "metadata": {},
   "outputs": [],
   "source": [
    "NeuralNetworkClassifierbest= MLPClassifier(activation='tanh',alpha=0.0001,hidden_layer_sizes={10, 30, 10},learning_rate='adaptive',solver='sgd')"
   ]
  },
  {
   "cell_type": "code",
   "execution_count": null,
   "id": "44975b81",
   "metadata": {},
   "outputs": [],
   "source": [
    "NeuralNetworkClassifierbest.fit(X_train, Y_train)\n",
    "NNpred2=NeuralNetworkClassifierbest.predict(X_test)\n",
    "NNaccuracy = accuracy_score(Y_test, NNpred2)\n",
    "print(\"Accuracy of the Neural Network Classifier: \", NNaccuracy)"
   ]
  }
 ],
 "metadata": {
  "colab": {
   "provenance": []
  },
  "kernelspec": {
   "display_name": "Python 3 (ipykernel)",
   "language": "python",
   "name": "python3"
  },
  "language_info": {
   "codemirror_mode": {
    "name": "ipython",
    "version": 3
   },
   "file_extension": ".py",
   "mimetype": "text/x-python",
   "name": "python",
   "nbconvert_exporter": "python",
   "pygments_lexer": "ipython3",
   "version": "3.9.12"
  }
 },
 "nbformat": 4,
 "nbformat_minor": 5
}
